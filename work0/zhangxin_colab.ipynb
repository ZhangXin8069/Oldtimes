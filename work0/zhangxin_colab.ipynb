{
 "cells": [
  {
   "cell_type": "code",
   "execution_count": null,
   "id": "04f2a4f2-15e6-4708-a439-29d021de489e",
   "metadata": {},
   "outputs": [],
   "source": [
    "from google.colab import drive\n",
    "drive.mount('/content/drive')\n",
    "%cd /content/drive/MyDrive/"
   ]
  },
  {
   "cell_type": "code",
   "execution_count": null,
   "id": "d26de411-a100-4a34-a68c-64032393039d",
   "metadata": {},
   "outputs": [],
   "source": [
    "!bash colab_prepare_openmc.sh\n",
    "import openmc\n",
    "openmc.Materials.cross_sections='./endfb80_hdf5/cross_sections.xml'"
   ]
  },
  {
   "cell_type": "code",
   "execution_count": null,
   "id": "3f103363-c1ca-4519-a78f-0cb7145acd44",
   "metadata": {},
   "outputs": [],
   "source": [
    "!sudo rm -rf /content/drive/MyDrive/zhangxin\n",
    "!git clone https://github.com/zx2810/zhangxin.git\n",
    "!cp /content/drive/MyDrive/zhangxin/* /content/drive/MyDrive/\n",
    "!sudo rm -rf /content/drive/MyDrive/zhangxin"
   ]
  },
  {
   "cell_type": "code",
   "execution_count": null,
   "id": "3bf1843f-fa83-438b-bd99-1f0758d72dcf",
   "metadata": {},
   "outputs": [],
   "source": [
    "!pip install -r zhangxin_requirements.txt"
   ]
  }
 ],
 "metadata": {
  "kernelspec": {
   "display_name": "Python 3.10.6 64-bit",
   "language": "python",
   "name": "python3"
  },
  "language_info": {
   "codemirror_mode": {
    "name": "ipython",
    "version": 3
   },
   "file_extension": ".py",
   "mimetype": "text/x-python",
   "name": "python",
   "nbconvert_exporter": "python",
   "pygments_lexer": "ipython3",
   "version": "3.10.6"
  },
  "vscode": {
   "interpreter": {
    "hash": "916dbcbb3f70747c44a77c7bcd40155683ae19c65e1c03b4aa3499c5328201f1"
   }
  },
  "widgets": {
   "application/vnd.jupyter.widget-state+json": {
    "state": {},
    "version_major": 2,
    "version_minor": 0
   }
  }
 },
 "nbformat": 4,
 "nbformat_minor": 5
}
