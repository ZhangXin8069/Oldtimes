{
 "cells": [
  {
   "cell_type": "code",
   "execution_count": 2,
   "id": "fdb612b9-4377-48b9-8fd7-486ebbf14606",
   "metadata": {},
   "outputs": [
    {
     "ename": "ModuleNotFoundError",
     "evalue": "No module named 'openmc'",
     "output_type": "error",
     "traceback": [
      "\u001b[0;31m---------------------------------------------------------------------------\u001b[0m",
      "\u001b[0;31mModuleNotFoundError\u001b[0m                       Traceback (most recent call last)",
      "\u001b[1;32m/home/zhangxin/homework_openmc.ipynb Cell 1\u001b[0m in \u001b[0;36m<cell line: 8>\u001b[0;34m()\u001b[0m\n\u001b[1;32m      <a href='vscode-notebook-cell:/home/zhangxin/homework_openmc.ipynb#W0sZmlsZQ%3D%3D?line=5'>6</a>\u001b[0m \u001b[39mfrom\u001b[39;00m \u001b[39mIPython\u001b[39;00m\u001b[39m.\u001b[39;00m\u001b[39mdisplay\u001b[39;00m \u001b[39mimport\u001b[39;00m Image\n\u001b[1;32m      <a href='vscode-notebook-cell:/home/zhangxin/homework_openmc.ipynb#W0sZmlsZQ%3D%3D?line=6'>7</a>\u001b[0m \u001b[39mimport\u001b[39;00m \u001b[39mnumpy\u001b[39;00m \u001b[39mas\u001b[39;00m \u001b[39mnp\u001b[39;00m\n\u001b[0;32m----> <a href='vscode-notebook-cell:/home/zhangxin/homework_openmc.ipynb#W0sZmlsZQ%3D%3D?line=7'>8</a>\u001b[0m \u001b[39mimport\u001b[39;00m \u001b[39mopenmc\u001b[39;00m\n\u001b[1;32m      <a href='vscode-notebook-cell:/home/zhangxin/homework_openmc.ipynb#W0sZmlsZQ%3D%3D?line=8'>9</a>\u001b[0m \u001b[39mfrom\u001b[39;00m \u001b[39mmath\u001b[39;00m \u001b[39mimport\u001b[39;00m pi\n\u001b[1;32m     <a href='vscode-notebook-cell:/home/zhangxin/homework_openmc.ipynb#W0sZmlsZQ%3D%3D?line=9'>10</a>\u001b[0m \u001b[39mimport\u001b[39;00m \u001b[39mmatplotlib\u001b[39;00m\u001b[39m.\u001b[39;00m\u001b[39mpyplot\u001b[39;00m \u001b[39mas\u001b[39;00m \u001b[39mplt\u001b[39;00m\n",
      "\u001b[0;31mModuleNotFoundError\u001b[0m: No module named 'openmc'"
     ]
    }
   ],
   "source": [
    "# %matplotlib inline\n",
    "# %load_ext blackcellmagic\n",
    "# %load_ext watermark\n",
    "# %watermark\n",
    "# %watermark -p openmc\n",
    "from IPython.display import Image\n",
    "import numpy as np\n",
    "import openmc\n",
    "from math import pi\n",
    "import matplotlib.pyplot as plt\n",
    "from matplotlib import pyplot\n",
    "import openmc.lib\n",
    "import openmc.deplete\n",
    "eV=1.60217662e-19\n",
    "path=\"/home/zhangxin/endfb71_hdf5/chain_simple.xml\""
   ]
  },
  {
   "cell_type": "code",
   "execution_count": null,
   "id": "3b212754-5039-4d23-89fd-35faae8df267",
   "metadata": {},
   "outputs": [],
   "source": [
    "# x=0.198#keff=0.98*\n",
    "# x=0.193#keff=0.96*\n",
    "# x=0.192#keff=0.94*\n",
    "# import sys\n",
    "# x= float(sys.argv[1])\n",
    "x=0.188"
   ]
  },
  {
   "cell_type": "code",
   "execution_count": null,
   "id": "1d1acfab-b835-4d20-ac95-90bd8e5d9772",
   "metadata": {},
   "outputs": [],
   "source": [
    "Tem0 = 20 + 273.15\n",
    "\n",
    "nam_ele = [\"Th_232\", \"U_233\", \"O\", \"Fe\", \"Cr\", \"Mn\", \"W\", \"Pb\"]\n",
    "num_ele = [3, 2, 3, 4, 4, 4, 4, 5]\n",
    "\n",
    "\n",
    "def ele_nam(nam=\"O\", num=4):\n",
    "    return [nam + \"_\" + str(i) for i in range(1, num + 1)]\n",
    "\n",
    "\n",
    "ele_nam_lis0 = [ele_nam(i, j) for i, j in zip(nam_ele, num_ele)]\n",
    "ele_nam_lis = []\n",
    "for j in ele_nam_lis0:\n",
    "    for i in j:\n",
    "        ele_nam_lis.append(i)\n",
    "num_den = [\n",
    "    6.35e-3 * (1 - x),\n",
    "    7.45e-3 * (1 - x),\n",
    "    7.45e-3,\n",
    "    6.35e-3 * x,\n",
    "    7.45e-3 * x,\n",
    "    1.27e-2,\n",
    "    1.49e-2,\n",
    "    1.49e-2,\n",
    "    8.10e-3,\n",
    "    8.87e-3,\n",
    "    8.87e-3,\n",
    "    6.63e-3,\n",
    "    1.12e-3,\n",
    "    1.06e-3,\n",
    "    1.06e-3,\n",
    "    8.00e-4,\n",
    "    4.60e-5,\n",
    "    5.10e-5,\n",
    "    5.10e-5,\n",
    "    3.80e-5,\n",
    "    4.60e-5,\n",
    "    5.10e-5,\n",
    "    5.10e-5,\n",
    "    3.80e-5,\n",
    "    1.77e-2,\n",
    "    1.56e-2,\n",
    "    1.56e-2,\n",
    "    2.41e-2,\n",
    "    3.05e-2,\n",
    "]\n",
    "\n",
    "ele_set = {i: j for i, j in zip(ele_nam_lis, num_den)}"
   ]
  },
  {
   "cell_type": "code",
   "execution_count": null,
   "id": "5668deb3-a69b-4aae-b0f0-883002f59a42",
   "metadata": {},
   "outputs": [],
   "source": [
    "mat_lis = [0, 1, 2, 3, 4]\n",
    "for i in mat_lis:\n",
    "    mat_lis[i] = openmc.Material(temperature=Tem0)\n",
    "    lis = []\n",
    "    for j in ele_nam_lis:\n",
    "        if j.split(sep=\"_\")[-1] == str(i + 1):\n",
    "            lis.append(j)\n",
    "    atom_sum = sum([ele_set[eva] for eva in lis])\n",
    "    for k in lis:\n",
    "        if len(k.split(sep=\"_\")) == 2:\n",
    "            mat_lis[i].add_element(\n",
    "                element=str(k.split(sep=\"_\")[0]),\n",
    "                percent=ele_set[k] / atom_sum,\n",
    "                percent_type=\"ao\",\n",
    "            )\n",
    "        if len(k.split(sep=\"_\")) == 3:\n",
    "            mat_lis[i].add_nuclide(\n",
    "                nuclide=str(k.split(sep=\"_\")[0]) + str(k.split(sep=\"_\")[1]),\n",
    "                percent=ele_set[k] / atom_sum,\n",
    "                percent_type=\"ao\",\n",
    "            )\n",
    "    mat_lis[i].set_density(units=\"atom/cm3\", density=atom_sum * 1e24)"
   ]
  },
  {
   "cell_type": "code",
   "execution_count": null,
   "id": "00a6d006-800e-4d77-9a28-ae8cc4740b40",
   "metadata": {},
   "outputs": [],
   "source": [
    "mats_lis = [\n",
    "    mat_lis[0],  # 1\n",
    "    mat_lis[1],  # 2\n",
    "    mat_lis[2],  # 3\n",
    "    mat_lis[3],  # 4up\n",
    "    mat_lis[3],  # 4do\n",
    "    mat_lis[4],  # 5in\n",
    "    mat_lis[4],  # 5mup\n",
    "    mat_lis[4],  # 5mdo\n",
    "    mat_lis[4],  # 5ou\n",
    "]\n",
    "mats = openmc.Materials(mat_lis)\n",
    "rad = [0, 32.5, 82.5, 147.5, 162.5, 320]\n",
    "hig = [-320, -165, -75, 75, 165, 320]\n",
    "# ins out ups dow"
   ]
  },
  {
   "cell_type": "code",
   "execution_count": null,
   "id": "4b77aa32-7e61-483d-adb7-c4bcb46fd264",
   "metadata": {},
   "outputs": [],
   "source": [
    "ins = [\n",
    "    openmc.ZCylinder(r=rad[1]),\n",
    "    openmc.ZCylinder(r=rad[2]),\n",
    "    openmc.ZCylinder(r=rad[3]),\n",
    "    openmc.ZCylinder(r=rad[1]),\n",
    "    openmc.ZCylinder(r=rad[1]),\n",
    "    openmc.ZCylinder(r=rad[0]),\n",
    "    openmc.ZCylinder(r=rad[1]),\n",
    "    openmc.ZCylinder(r=rad[1]),\n",
    "    openmc.ZCylinder(r=rad[4]),\n",
    "]\n",
    "out = [\n",
    "    openmc.ZCylinder(r=rad[2]),\n",
    "    openmc.ZCylinder(r=rad[3]),\n",
    "    openmc.ZCylinder(r=rad[4]),\n",
    "    openmc.ZCylinder(r=rad[4]),\n",
    "    openmc.ZCylinder(r=rad[4]),\n",
    "    openmc.ZCylinder(r=rad[1]),\n",
    "    openmc.ZCylinder(r=rad[4]),\n",
    "    openmc.ZCylinder(r=rad[4]),\n",
    "    openmc.ZCylinder(r=rad[5]),\n",
    "]\n",
    "dow = [\n",
    "    openmc.ZPlane(z0=hig[2]),\n",
    "    openmc.ZPlane(z0=hig[2]),\n",
    "    openmc.ZPlane(z0=hig[2]),\n",
    "    openmc.ZPlane(z0=hig[3]),\n",
    "    openmc.ZPlane(z0=hig[1]),\n",
    "    openmc.ZPlane(z0=hig[0]),\n",
    "    openmc.ZPlane(z0=hig[4]),\n",
    "    openmc.ZPlane(z0=hig[0]),\n",
    "    openmc.ZPlane(z0=hig[0]),\n",
    "]\n",
    "ups = [\n",
    "    openmc.ZPlane(z0=hig[3]),\n",
    "    openmc.ZPlane(z0=hig[3]),\n",
    "    openmc.ZPlane(z0=hig[3]),\n",
    "    openmc.ZPlane(z0=hig[4]),\n",
    "    openmc.ZPlane(z0=hig[2]),\n",
    "    openmc.ZPlane(z0=hig[5]),\n",
    "    openmc.ZPlane(z0=hig[5]),\n",
    "    openmc.ZPlane(z0=hig[1]),\n",
    "    openmc.ZPlane(z0=hig[5]),\n",
    "]"
   ]
  },
  {
   "cell_type": "code",
   "execution_count": null,
   "id": "d482b812-15ec-4751-bc0f-b1baa5a0fe27",
   "metadata": {},
   "outputs": [],
   "source": [
    "for i in ins + out + dow + ups:\n",
    "    i.boundary_type = \"transmission\"\n",
    "out[8].boundary_type = \"vacuum\"\n",
    "dow[5].boundary_type = \"vacuum\"\n",
    "dow[7].boundary_type = \"vacuum\"\n",
    "dow[8].boundary_type = \"vacuum\"\n",
    "ups[5].boundary_type = \"vacuum\"\n",
    "ups[6].boundary_type = \"vacuum\"\n",
    "ups[8].boundary_type = \"vacuum\""
   ]
  },
  {
   "cell_type": "code",
   "execution_count": null,
   "id": "8b5fdfda-e49f-495a-ad2a-8c98b486890d",
   "metadata": {},
   "outputs": [],
   "source": [
    "ins_lis = [\n",
    "    rad[1],\n",
    "    rad[2],\n",
    "    rad[3],\n",
    "    rad[1],\n",
    "    rad[1],\n",
    "    rad[0],\n",
    "    rad[1],\n",
    "    rad[1],\n",
    "    rad[4],\n",
    "]\n",
    "out_lis = [\n",
    "    rad[2],\n",
    "    rad[3],\n",
    "    rad[4],\n",
    "    rad[4],\n",
    "    rad[4],\n",
    "    rad[1],\n",
    "    rad[4],\n",
    "    rad[4],\n",
    "    rad[5],\n",
    "]\n",
    "dow_lis = [\n",
    "    hig[2],\n",
    "    hig[2],\n",
    "    hig[2],\n",
    "    hig[3],\n",
    "    hig[1],\n",
    "    hig[0],\n",
    "    hig[4],\n",
    "    hig[0],\n",
    "    hig[0],\n",
    "]\n",
    "ups_lis = [\n",
    "    hig[3],\n",
    "    hig[3],\n",
    "    hig[3],\n",
    "    hig[4],\n",
    "    hig[2],\n",
    "    hig[5],\n",
    "    hig[5],\n",
    "    hig[1],\n",
    "    hig[5],\n",
    "]"
   ]
  },
  {
   "cell_type": "code",
   "execution_count": null,
   "id": "47f07de5-cc32-4bac-85ec-9306301c5c08",
   "metadata": {},
   "outputs": [],
   "source": [
    "cel_lis = [0, 1, 2, 3, 4, 5, 6, 7, 8]\n",
    "for i in cel_lis:\n",
    "    mats_lis[i].volume = (\n",
    "        (ups_lis[i] - dow_lis[i]) * (out_lis[i] ** 2 - ins_lis[i] ** 2) * pi\n",
    "    )\n",
    "    cel_lis[i] = openmc.Cell()\n",
    "    cel_lis[i].region = +ins[i] & -out[i] & +dow[i] & -ups[i]\n",
    "    cel_lis[i].fill = mats_lis[i]\n",
    "    cel_lis[i].temperature = Tem0"
   ]
  },
  {
   "cell_type": "code",
   "execution_count": null,
   "id": "055a22fe-d3d2-40d2-9af5-79dc92d5f2f1",
   "metadata": {},
   "outputs": [],
   "source": [
    "imp = 500\n",
    "cel_voi = openmc.Cell()\n",
    "voi_spa = [\n",
    "    +openmc.ZPlane(z0=hig[0] - imp),\n",
    "    -openmc.ZPlane(z0=hig[5] + imp),\n",
    "    -openmc.ZCylinder(r=rad[5] + imp),\n",
    "]\n",
    "cel_voi_space = voi_spa[0]\n",
    "for i in voi_spa:\n",
    "    i.boundary_type = \"vacuum\"\n",
    "    cel_voi_space = cel_voi_space & i\n",
    "cel_voi.region = cel_voi_space\n",
    "cel_voi.temperature = Tem0\n",
    "cel_voi.fill = mat_lis[4]\n",
    "cel_lis.append(cel_voi)"
   ]
  },
  {
   "cell_type": "code",
   "execution_count": null,
   "id": "3d0018f2-e1e0-4583-bcb4-fd2740fc9616",
   "metadata": {},
   "outputs": [],
   "source": [
    "uni = openmc.Universe(cells=cel_lis)\n",
    "# root_cell = openmc.Cell(\n",
    "#     fill=uni,\n",
    "#     region=\n",
    "#     +openmc.ZPlane(z0=hig[0])\n",
    "#     & -openmc.ZPlane(z0=hig[5])\n",
    "#     & -openmc.ZCylinder(r=rad[5]),\n",
    "# )"
   ]
  },
  {
   "cell_type": "code",
   "execution_count": null,
   "id": "f232c8cc-60ab-425a-b388-f86ad0e2b284",
   "metadata": {
    "scrolled": true,
    "tags": []
   },
   "outputs": [],
   "source": [
    "# width=(640,640)\n",
    "# pixels=(640,640)\n",
    "# color_by='material'"
   ]
  },
  {
   "cell_type": "code",
   "execution_count": null,
   "id": "f1fd4890-56f9-4b85-b10a-f9fe28141cec",
   "metadata": {},
   "outputs": [],
   "source": [
    "# uni.plot(origin=(0  , 0, -1), width=width, basis=\"xy\", pixels=pixels, color_by=color_by)"
   ]
  },
  {
   "cell_type": "code",
   "execution_count": null,
   "id": "39439076-344d-451d-a91b-58e102d236a7",
   "metadata": {},
   "outputs": [],
   "source": [
    "# uni.plot(origin=(0, 0, -76), width=width, basis=\"xy\", pixels=pixels, color_by=color_by)"
   ]
  },
  {
   "cell_type": "code",
   "execution_count": null,
   "id": "5a28cbd1-9e27-42b4-9ebc-f7d5f4fdaebc",
   "metadata": {},
   "outputs": [],
   "source": [
    "# uni.plot(origin=(0, 0,- 166), width=width, basis=\"xy\", pixels=pixels, color_by=color_by)"
   ]
  },
  {
   "cell_type": "code",
   "execution_count": null,
   "id": "d3d7b696-f69e-4b34-926b-2f8f97e43860",
   "metadata": {},
   "outputs": [],
   "source": [
    "# uni.plot(origin=(0, 1, 0), width=width, basis=\"xz\", pixels=pixels, color_by=color_by)"
   ]
  },
  {
   "cell_type": "code",
   "execution_count": null,
   "id": "a05a1b7f-3c0c-4037-9636-3c96bc627708",
   "metadata": {},
   "outputs": [],
   "source": [
    "geo = openmc.Geometry(uni)\n",
    "# geo=openmc.Geometry([root_cell])"
   ]
  },
  {
   "cell_type": "code",
   "execution_count": null,
   "id": "e107b52b-b321-4173-8d65-e445e4bb7d81",
   "metadata": {},
   "outputs": [],
   "source": [
    "sou = openmc.Source()\n",
    "sou.space = openmc.stats.Box(\n",
    "    (-10 / (2 ** 0.5), -10 / (2 ** 0.5), -25),\n",
    "    (10 / (2 ** 0.5), 10 / (2 ** 0.5), 25),\n",
    "    only_fissionable=True,\n",
    ")\n",
    "sou.energy = openmc.stats.Discrete([1.0e9], [1.0])\n",
    "sets = openmc.Settings()\n",
    "sets.batches = 200\n",
    "sets.inactive = 50\n",
    "sets.particles = 16 * 625\n",
    "sets.run_mode = \"eigenvalue\"\n",
    "sets.keff_trigger = {\"type\": \"std_dev\", \"threshold\": 5e-4}\n",
    "sets.trigger_active = True\n",
    "sets.trigger_max_batches = 200\n",
    "sets.sou = sou"
   ]
  },
  {
   "cell_type": "code",
   "execution_count": null,
   "id": "8d14fc33-b8c5-41f1-a9a9-7c61dcde2d83",
   "metadata": {},
   "outputs": [],
   "source": [
    "tals = openmc.Tallies()\n",
    "mesh = openmc.RegularMesh()\n",
    "mesh.dimension = [100, 100]\n",
    "mesh.lower_left = [-320, -320]\n",
    "mesh.upper_right = [320, 320]\n",
    "mesh_fil = openmc.MeshFilter(mesh)\n",
    "tal = openmc.Tally(name=\"flux\")\n",
    "tal.filters = [mesh_fil]\n",
    "tal.scores = [\"flux\", \"fission\"]\n",
    "tals.append(tal)"
   ]
  },
  {
   "cell_type": "code",
   "execution_count": null,
   "id": "7a705377-28b4-4e64-b754-e2054eb944b5",
   "metadata": {},
   "outputs": [],
   "source": [
    "mats.export_to_xml()\n",
    "geo.export_to_xml()\n",
    "sets.export_to_xml()\n",
    "tals.export_to_xml()"
   ]
  },
  {
   "cell_type": "code",
   "execution_count": null,
   "id": "b9675932-8a85-4b37-a0e4-d2abc1e5513d",
   "metadata": {
    "scrolled": true,
    "tags": []
   },
   "outputs": [],
   "source": [
    "openmc.run(output=False)"
   ]
  },
  {
   "cell_type": "code",
   "execution_count": null,
   "id": "d2f2e921-b157-48de-a506-f66779141460",
   "metadata": {},
   "outputs": [],
   "source": [
    "sp = openmc.StatePoint(\"statepoint.200.h5\")\n",
    "energy_bins = np.logspace(3, 9)\n",
    "probability, bin_edges = np.histogram(sp.source[\"E\"], energy_bins, density=True)\n",
    "print(sum(probability * np.diff(energy_bins)))\n",
    "plt.semilogx(energy_bins[:-1], probability * np.diff(energy_bins), drawstyle=\"steps\")\n",
    "plt.xlabel(\"Energy (eV)\")\n",
    "plt.ylabel(\"Probability/eV\")"
   ]
  },
  {
   "cell_type": "code",
   "execution_count": null,
   "id": "53bab130-bb5d-4b74-a9d3-0092cbac6378",
   "metadata": {},
   "outputs": [],
   "source": [
    "plt.quiver(\n",
    "    sp.source[\"r\"][\"x\"],\n",
    "    sp.source[\"r\"][\"y\"],\n",
    "    sp.source[\"u\"][\"x\"],\n",
    "    sp.source[\"u\"][\"y\"],\n",
    "    np.log(sp.source[\"E\"]),\n",
    "    cmap=\"jet\",\n",
    "    scale=20.0,\n",
    ")\n",
    "plt.colorbar()"
   ]
  },
  {
   "cell_type": "code",
   "execution_count": null,
   "id": "195e5999-71df-4a5f-ae3c-ada7e6eec5b7",
   "metadata": {},
   "outputs": [],
   "source": [
    "sp.keff"
   ]
  },
  {
   "cell_type": "code",
   "execution_count": null,
   "id": "c3d0af1a-7500-459a-9fdb-69b99b4bdc6b",
   "metadata": {},
   "outputs": [],
   "source": [
    "sp.close()"
   ]
  },
  {
   "cell_type": "code",
   "execution_count": null,
   "id": "5116da26-b93c-4462-a6ec-97d4b19c695d",
   "metadata": {
    "tags": []
   },
   "outputs": [],
   "source": [
    "# mod = openmc.Model(geometry=geo, settings=sets)\n",
    "# operator = openmc.deplete.Operator(mod, path)\n",
    "# timesteps = [140] * 16\n",
    "# power = 1500 * 1e6\n",
    "# timestep_units = \"d\"\n",
    "# integrator = openmc.deplete.PredictorIntegrator(\n",
    "#     operator=operator,\n",
    "#     timesteps=timesteps,\n",
    "#     power=power,\n",
    "#     timestep_units=timestep_units,\n",
    "# )\n",
    "# integrator.integrate()"
   ]
  },
  {
   "cell_type": "code",
   "execution_count": null,
   "id": "333f29f3-0aff-4721-840c-ad416c795d3b",
   "metadata": {
    "tags": []
   },
   "outputs": [],
   "source": [
    "# results = openmc.deplete.Results(\"depletion_results.h5\")\n",
    "# time, k = results.get_keff()\n",
    "# time /= 24 * 60 * 60\n",
    "# # pyplot.errorbar(time, k[:, 0], yerr=k[:, 1])\n",
    "# pyplot.plot(time, k[:, 0])\n",
    "# pyplot.xlabel(\"Time [d]\")\n",
    "# pyplot.ylabel(\"$k_{eff}\\pm \\sigma$\")"
   ]
  },
  {
   "cell_type": "code",
   "execution_count": null,
   "id": "b1e29462-2f04-474b-907f-2edfe9edff33",
   "metadata": {
    "scrolled": true,
    "tags": []
   },
   "outputs": [],
   "source": [
    "import os\n",
    "import numpy as np\n",
    "\n",
    "for i in np.linspace(0.10, 0.20, 101, endpoint=True):\n",
    "    os.system(\"python homework_openmc.py {}\".format(i))"
   ]
  },
  {
   "cell_type": "code",
   "execution_count": null,
   "id": "953007bd-e642-4817-8ccd-876325227248",
   "metadata": {},
   "outputs": [],
   "source": [
    "# import os \n",
    "# sp = openmc.StatePoint('statepoint.200.h5')\n",
    "# k = sp.keff\n",
    "# sp.close()\n",
    "# try: \n",
    "#     os.system('rm statepoint.*')\n",
    "#     os.system('rm particle*')\n",
    "#     os.system('echo \"P(u):{} keff:{}\" >> keff.txt'.format(x,k))\n",
    "# except Exception as e:\n",
    "#     print(e)"
   ]
  },
  {
   "cell_type": "code",
   "execution_count": null,
   "id": "7f6c3544-20fd-4b6b-bd99-bd58c19b8410",
   "metadata": {},
   "outputs": [],
   "source": [
    "import re\n",
    "import matplotlib.pyplot as plt\n",
    "\n",
    "f = open(\"keff.txt\")\n",
    "f = f.read().split(sep=\"\\n\")\n",
    "x = []\n",
    "y = []\n",
    "for i in f[:-1]:\n",
    "    x.append(float(re.findall(pattern=r\"P\\(u\\):(.*) keff\", string=i)[0]))\n",
    "    y.append(float(re.findall(pattern=r\"keff:(.*)\\+\", string=i)[0]))\n",
    "plt.figure(dpi=160)\n",
    "plt.plot(x, y)\n",
    "plt.grid()\n",
    "plt.xlabel(\"$P_{(U_{233})}$\")\n",
    "plt.ylabel(\"$keff$\")\n",
    "plt.title(\"$P_{(U_{233})}$-$keff$\")"
   ]
  }
 ],
 "metadata": {
  "kernelspec": {
   "display_name": "Python 3.9.12 ('base')",
   "language": "python",
   "name": "python3"
  },
  "language_info": {
   "codemirror_mode": {
    "name": "ipython",
    "version": 3
   },
   "file_extension": ".py",
   "mimetype": "text/x-python",
   "name": "python",
   "nbconvert_exporter": "python",
   "pygments_lexer": "ipython3",
   "version": "3.9.12"
  },
  "vscode": {
   "interpreter": {
    "hash": "b2e8dd0bafba691a91298df5dbe8eefe228c23d65770721203cf32a5fdb3913f"
   }
  },
  "widgets": {
   "application/vnd.jupyter.widget-state+json": {
    "state": {},
    "version_major": 2,
    "version_minor": 0
   }
  }
 },
 "nbformat": 4,
 "nbformat_minor": 5
}
