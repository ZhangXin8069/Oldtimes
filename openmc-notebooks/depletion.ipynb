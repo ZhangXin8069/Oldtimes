{
 "cells": [
  {
   "cell_type": "markdown",
   "metadata": {},
   "source": [
    "# Depletion\n",
    "This notebook is intended to introduce the reader to the depletion interface contained in OpenMC. It is recommended that you are moderately familiar with building models using the OpenMC Python API. The earlier examples are excellent starting points, as this notebook will not focus heavily on model building.\n",
    "\n",
    "If you have a real power reactor, the fuel composition is constantly changing as fission events produce energy, remove some fissile isotopes, and produce fission products. Other reactions, like $(n, \\alpha)$ and $(n, \\gamma)$ will alter the composition as well. Furthermore, some nuclides undergo spontaneous decay with widely ranging frequencies. Depletion is the process of modeling this behavior.\n",
    "\n",
    "In this notebook, we will model a simple fuel pin in an infinite lattice using the Python API. We will then build and examine some of the necessary components for performing depletion analysis. Then, we will use the depletion interface in OpenMC to simulate the fuel pin producing power over several months. Lastly, we will wrap up with some helpful tips to improve the fidelity of depletion simulations."
   ]
  },
  {
   "cell_type": "code",
   "execution_count": 1,
   "metadata": {},
   "outputs": [],
   "source": [
    "%matplotlib inline\n",
    "import math\n",
    "import openmc"
   ]
  },
  {
   "cell_type": "markdown",
   "metadata": {},
   "source": [
    "## Build the Geometry\n",
    "\n",
    "Much of this section is borrowed from the \"Modeling a Pin-Cell\" example. If you find yourself not understanding some aspects of this section, feel free to refer to that example, as some details may be glossed over for brevity.\n",
    "\n",
    "First, we will create our fuel, cladding, and water materials to represent a typical PWR."
   ]
  },
  {
   "cell_type": "code",
   "execution_count": 2,
   "metadata": {},
   "outputs": [],
   "source": [
    "fuel = openmc.Material(name=\"uo2\")\n",
    "fuel.add_element(\"U\", 1, percent_type=\"ao\", enrichment=4.25)\n",
    "fuel.add_element(\"O\", 2)\n",
    "fuel.set_density(\"g/cc\", 10.4)\n",
    "\n",
    "clad = openmc.Material(name=\"clad\")\n",
    "clad.add_element(\"Zr\", 1)\n",
    "clad.set_density(\"g/cc\", 6)\n",
    "\n",
    "water = openmc.Material(name=\"water\")\n",
    "water.add_element(\"O\", 1)\n",
    "water.add_element(\"H\", 2)\n",
    "water.set_density(\"g/cc\", 1.0)\n",
    "water.add_s_alpha_beta(\"c_H_in_H2O\")\n",
    "materials = openmc.Materials([fuel, clad, water])"
   ]
  },
  {
   "cell_type": "markdown",
   "metadata": {},
   "source": [
    "Here, we are going to use the `openmc.model.pin` function to build our pin cell. The `pin` function anticipates concentric cylinders and materials to fill the inner regions. One additional material is needed than the number of cylinders to cover the domain outside the final ring. \n",
    "\n",
    "To do this, we define two radii for the outer radius of our fuel pin, and the outer radius of the cladding."
   ]
  },
  {
   "cell_type": "code",
   "execution_count": 3,
   "metadata": {},
   "outputs": [],
   "source": [
    "radii = [0.42, 0.45]"
   ]
  },
  {
   "cell_type": "markdown",
   "metadata": {},
   "source": [
    "Using these radii, we define concentric `ZCylinder` objects. So long as the cylinders are concentric and increasing in radius, any orientation can be used. We also take advantage of the fact that the `openmc.Materials` object is a subclass of the `list` object to assign materials to the regions defined by the surfaces."
   ]
  },
  {
   "cell_type": "code",
   "execution_count": 4,
   "metadata": {},
   "outputs": [],
   "source": [
    "pin_surfaces = [openmc.ZCylinder(r=r) for r in radii]\n",
    "pin_univ = openmc.model.pin(pin_surfaces, materials)"
   ]
  },
  {
   "cell_type": "markdown",
   "metadata": {},
   "source": [
    "The first material, in our case `fuel`, is placed inside the first cylinder in the inner-most region. The second material, `clad`, fills the space between our cylinders, while `water` is placed outside the last ring. The `pin` function returns an `openmc.Universe` object, and has some additional features we will mention later. Finally, we need to place the fuel pin universe in a bounding cell."
   ]
  },
  {
   "cell_type": "code",
   "execution_count": 5,
   "metadata": {},
   "outputs": [],
   "source": [
    "bound_box = openmc.rectangular_prism(1.24, 1.24, boundary_type=\"reflective\")\n",
    "root_cell = openmc.Cell(fill=pin_univ, region=bound_box)\n",
    "geometry = openmc.Geometry([root_cell])"
   ]
  },
  {
   "cell_type": "markdown",
   "metadata": {},
   "source": [
    "To ensure our geometry looks right, let's plot it."
   ]
  },
  {
   "cell_type": "code",
   "execution_count": 6,
   "metadata": {},
   "outputs": [
    {
     "data": {
      "text/plain": [
       "<matplotlib.image.AxesImage at 0x7f5398f00cd0>"
      ]
     },
     "execution_count": 6,
     "metadata": {},
     "output_type": "execute_result"
    },
    {
     "data": {
      "image/png": "[encoded data removed]",
      "text/plain": [
       "<Figure size 258.065x264.901 with 1 Axes>"
      ]
     },
     "metadata": {
      "needs_background": "light"
     },
     "output_type": "display_data"
    }
   ],
   "source": [
    "geometry.root_universe.plot()"
   ]
  },
  {
   "cell_type": "markdown",
   "metadata": {},
   "source": [
    "Lastly we construct our settings. For the sake of time, a relatively low number of particles will be used."
   ]
  },
  {
   "cell_type": "code",
   "execution_count": 7,
   "metadata": {},
   "outputs": [],
   "source": [
    "settings = openmc.Settings()\n",
    "settings.particles = 1000\n",
    "settings.inactive = 10\n",
    "settings.batches = 50"
   ]
  },
  {
   "cell_type": "markdown",
   "metadata": {},
   "source": [
    "The depletion interface relies on `OpenMC` to perform the transport simulation and obtain reaction rates and other important information. Normally, we would need to export XML files before running OpenMC, but the depletion interface takes care of this for us."
   ]
  },
  {
   "cell_type": "markdown",
   "metadata": {},
   "source": [
    "However, we must first add one bit of information: the volume of our fuel. In order to translate the reaction rates obtained by `openmc` to meaningful units for depletion, we have to normalize them to a correct power. This requires us to know, or be able to calculate, how much fuel is in our problem. Correctly setting the volumes is a critical step, and can lead to incorrect answers, as the fuel is over- or under-depleted due to poor normalization.\n",
    "\n",
    "For our problem, we can assign the \"volume\" to be the cross-sectional area of our fuel. This is identical to modeling our fuel pin inside a box with height of 1 cm."
   ]
  },
  {
   "cell_type": "code",
   "execution_count": 8,
   "metadata": {},
   "outputs": [],
   "source": [
    "fuel.volume = math.pi * radii[0] ** 2"
   ]
  },
  {
   "cell_type": "markdown",
   "metadata": {},
   "source": [
    "## Setting up for depletion\n",
    "\n",
    "The OpenMC depletion interface can be accessed from the `openmc.deplete` module, and has a variety of classes that will help us."
   ]
  },
  {
   "cell_type": "code",
   "execution_count": 9,
   "metadata": {},
   "outputs": [],
   "source": [
    "import openmc.deplete"
   ]
  },
  {
   "cell_type": "markdown",
   "metadata": {},
   "source": [
    "In order to run the depletion calculation we need the following information:\n",
    "\n",
    "1. Nuclide decay, fission yield, and reaction data\n",
    "2. Operational power or power density\n",
    "3. Desired depletion schedule\n",
    "4. Desired time integration scheme\n",
    "\n",
    "The first item is necessary to determine the paths by which nuclides transmute over the depletion simulation. This includes spontaneous decay, fission product yield distributions, and nuclides produced through neutron-reactions. For example,\n",
    "* Te129 decays to I129 with a half life of ~70 minutes\n",
    "* A fission event for U-235 produces fission products like Xe135 according to a distribution\n",
    "* For thermal problems, Am241 will produce metastable Am242 about 8% of the time during an $(n,\\gamma)$ reaction. The other 92% of capture reactions will produce ground state Am242\n",
    "\n",
    "These data are often distributed with other nuclear data, like incident neutron cross sections with ENDF/B-VII.\n",
    "OpenMC uses the [`openmc.deplete.Chain`](https://docs.openmc.org/en/latest/pythonapi/generated/openmc.deplete.Chain.html#openmc.deplete.Chain) to collect represent the various decay and transmutation pathways in a single object.\n",
    "While a complete `Chain` can be created using nuclear data files, users may prefer to download pre-generated XML-representations instead.\n",
    "Such files can be found at https://openmc.org/depletion-chains/ and include full and compressed chains, with capture branching ratios derived using PWR- or SFR-spectra.\n",
    "\n",
    "For this problem, we will be using a much smaller depletion chain that contains very few nuclides. In a realistic problem, over 1000 isotopes may be included in the depletion chain."
   ]
  },
  {
   "cell_type": "code",
   "execution_count": 10,
   "metadata": {},
   "outputs": [
    {
     "data": {
      "text/plain": [
       "OrderedDict([('I135', 0),\n",
       "             ('Xe135', 1),\n",
       "             ('Xe136', 2),\n",
       "             ('Cs135', 3),\n",
       "             ('Gd157', 4),\n",
       "             ('Gd156', 5),\n",
       "             ('U234', 6),\n",
       "             ('U235', 7),\n",
       "             ('U238', 8)])"
      ]
     },
     "execution_count": 10,
     "metadata": {},
     "output_type": "execute_result"
    }
   ],
   "source": [
    "chain = openmc.deplete.Chain.from_xml(\"./chain_simple.xml\")\n",
    "chain.nuclide_dict"
   ]
  },
  {
   "cell_type": "markdown",
   "metadata": {},
   "source": [
    "The primary entry point for depletion is the `openmc.deplete.Operator`. It relies on the `openmc.deplete.Chain` and helper classes to run `openmc`, retrieve and normalize reaction rates, and other perform other tasks. For a thorough description, please see the full API documentation."
   ]
  },
  {
   "cell_type": "markdown",
   "metadata": {},
   "source": [
    "We will create our Operator using the geometry and settings from above, and our simple chain file. The materials are read in automatically using the `materials.xml` file."
   ]
  },
  {
   "cell_type": "code",
   "execution_count": 11,
   "metadata": {},
   "outputs": [],
   "source": [
    "model=openmc.Model(geometry=geometry,settings=settings)"
   ]
  },
  {
   "cell_type": "code",
   "execution_count": 12,
   "metadata": {},
   "outputs": [],
   "source": [
    "operator = openmc.deplete.Operator(model,\"./chain_simple.xml\")"
   ]
  },
  {
   "cell_type": "markdown",
   "metadata": {},
   "source": [
    "We will then simulate our fuel pin operating at linear power of 174 W/cm, or 174 W given a unit height for our problem."
   ]
  },
  {
   "cell_type": "code",
   "execution_count": 13,
   "metadata": {},
   "outputs": [],
   "source": [
    "power = 174"
   ]
  },
  {
   "cell_type": "markdown",
   "metadata": {},
   "source": [
    "For this problem, we will take depletion step sizes of 30 days, and instruct OpenMC to re-run a transport simulation every 30 days until we have modeled the problem over a six month cycle. The depletion interface expects the time to be given in seconds, so we will have to convert. Note that these values are not cumulative."
   ]
  },
  {
   "cell_type": "code",
   "execution_count": 14,
   "metadata": {},
   "outputs": [],
   "source": [
    "time_steps = [30] * 6"
   ]
  },
  {
   "cell_type": "markdown",
   "metadata": {},
   "source": [
    "And lastly, we will use the basic predictor, or forward Euler, time integration scheme. Other, more advanced methods are provided to the user through `openmc.deplete`"
   ]
  },
  {
   "cell_type": "code",
   "execution_count": 15,
   "metadata": {},
   "outputs": [],
   "source": [
    "integrator = openmc.deplete.PredictorIntegrator(operator, time_steps, power, timestep_units='d')"
   ]
  },
  {
   "cell_type": "markdown",
   "metadata": {},
   "source": [
    "To perform the simulation, we use the `integrate` method, and let `openmc` take care of the rest."
   ]
  },
  {
   "cell_type": "code",
   "execution_count": 16,
   "metadata": {},
   "outputs": [
    {
     "name": "stdout",
     "output_type": "stream",
     "text": [
      "                                %%%%%%%%%%%%%%%\n",
      "                           %%%%%%%%%%%%%%%%%%%%%%%%\n",
      "                        %%%%%%%%%%%%%%%%%%%%%%%%%%%%%%\n",
      "                      %%%%%%%%%%%%%%%%%%%%%%%%%%%%%%%%%%\n",
      "                    %%%%%%%%%%%%%%%%%%%%%%%%%%%%%%%%%%%%%%\n",
      "                   %%%%%%%%%%%%%%%%%%%%%%%%%%%%%%%%%%%%%%%%\n",
      "                                    %%%%%%%%%%%%%%%%%%%%%%%%\n",
      "                                     %%%%%%%%%%%%%%%%%%%%%%%%\n",
      "                 ###############      %%%%%%%%%%%%%%%%%%%%%%%%\n",
      "                ##################     %%%%%%%%%%%%%%%%%%%%%%%\n",
      "                ###################     %%%%%%%%%%%%%%%%%%%%%%%\n",
      "                ####################     %%%%%%%%%%%%%%%%%%%%%%\n",
      "                #####################     %%%%%%%%%%%%%%%%%%%%%\n",
      "                ######################     %%%%%%%%%%%%%%%%%%%%\n",
      "                #######################     %%%%%%%%%%%%%%%%%%\n",
      "                 #######################     %%%%%%%%%%%%%%%%%\n",
      "                 ######################     %%%%%%%%%%%%%%%%%\n",
      "                  ####################     %%%%%%%%%%%%%%%%%\n",
      "                    #################     %%%%%%%%%%%%%%%%%\n",
      "                     ###############     %%%%%%%%%%%%%%%%\n",
      "                       ############     %%%%%%%%%%%%%%%\n",
      "                          ########     %%%%%%%%%%%%%%\n",
      "                                      %%%%%%%%%%%\n",
      "\n",
      "                 | The OpenMC Monte Carlo Code\n",
      "       Copyright | 2011-2022 MIT, UChicago Argonne LLC, and contributors\n",
      "         License | https://docs.openmc.org/en/latest/license.html\n",
      "         Version | 0.13.1-dev\n",
      "        Git SHA1 | bf6cf505cc2b59353dc9c803f7e2c5af195dda6e\n",
      "       Date/Time | 2022-07-29 23:19:26\n",
      "  OpenMP Threads | 16\n",
      "\n",
      " Reading settings XML file...\n",
      " Reading cross sections XML file...\n",
      " Reading materials XML file...\n",
      " Reading geometry XML file...\n",
      " Reading U234 from /home/zhangxin/endfb71_hdf5/U234.h5\n",
      " Reading U235 from /home/zhangxin/endfb71_hdf5/U235.h5\n",
      " Reading U238 from /home/zhangxin/endfb71_hdf5/U238.h5\n",
      " Reading O16 from /home/zhangxin/endfb71_hdf5/O16.h5\n",
      " Reading O17 from /home/zhangxin/endfb71_hdf5/O17.h5\n",
      " Reading U236 from /home/zhangxin/endfb71_hdf5/U236.h5\n",
      " Reading Zr90 from /home/zhangxin/endfb71_hdf5/Zr90.h5\n",
      " Reading Zr91 from /home/zhangxin/endfb71_hdf5/Zr91.h5\n",
      " Reading Zr92 from /home/zhangxin/endfb71_hdf5/Zr92.h5\n",
      " Reading Zr94 from /home/zhangxin/endfb71_hdf5/Zr94.h5\n",
      " Reading Zr96 from /home/zhangxin/endfb71_hdf5/Zr96.h5\n",
      " Reading H1 from /home/zhangxin/endfb71_hdf5/H1.h5\n",
      " Reading H2 from /home/zhangxin/endfb71_hdf5/H2.h5\n",
      " Reading c_H_in_H2O from /home/zhangxin/endfb71_hdf5/c_H_in_H2O.h5\n",
      " Minimum neutron data temperature: 294 K\n",
      " Maximum neutron data temperature: 294 K\n",
      " Preparing distributed cell instances...\n",
      " Reading plot XML file...\n",
      " Writing summary.h5 file...\n",
      "[openmc.deplete] t=0.0 s, dt=2592000 s, source=174\n",
      " Reading I135 from /home/zhangxin/endfb71_hdf5/I135.h5\n",
      " Reading Xe135 from /home/zhangxin/endfb71_hdf5/Xe135.h5\n",
      " Reading Xe136 from /home/zhangxin/endfb71_hdf5/Xe136.h5\n",
      " Reading Cs135 from /home/zhangxin/endfb71_hdf5/Cs135.h5\n",
      " Reading Gd157 from /home/zhangxin/endfb71_hdf5/Gd157.h5\n",
      " Reading Gd156 from /home/zhangxin/endfb71_hdf5/Gd156.h5\n",
      " Maximum neutron transport energy: 20000000 eV for U235\n",
      " Initializing source particles...\n",
      "\n",
      " ====================>     K EIGENVALUE SIMULATION     <====================\n",
      "\n",
      "  Bat./Gen.      k            Average k\n",
      "  =========   ========   ====================\n",
      "        1/1    1.53790\n",
      "        2/1    1.46903\n",
      "        3/1    1.36829\n",
      "        4/1    1.45600\n",
      "        5/1    1.38633\n",
      "        6/1    1.51748\n",
      "        7/1    1.35208\n",
      "        8/1    1.55790\n",
      "        9/1    1.58144\n",
      "       10/1    1.42114\n",
      "       11/1    1.42185\n",
      "       12/1    1.46298    1.44242 +/- 0.02057\n",
      "       13/1    1.46751    1.45078 +/- 0.01453\n",
      "       14/1    1.53137    1.47093 +/- 0.02261\n",
      "       15/1    1.38387    1.45352 +/- 0.02470\n",
      "       16/1    1.51570    1.46388 +/- 0.02267\n",
      "       17/1    1.55438    1.47681 +/- 0.02312\n",
      "       18/1    1.44013    1.47222 +/- 0.02054\n",
      "       19/1    1.53542    1.47925 +/- 0.01942\n",
      "       20/1    1.36717    1.46804 +/- 0.02068\n",
      "       21/1    1.41912    1.46359 +/- 0.01922\n",
      "       22/1    1.52130    1.46840 +/- 0.01820\n",
      "       23/1    1.43972    1.46619 +/- 0.01688\n",
      "       24/1    1.41279    1.46238 +/- 0.01609\n",
      "       25/1    1.45216    1.46170 +/- 0.01499\n",
      "       26/1    1.53062    1.46601 +/- 0.01467\n",
      "       27/1    1.43426    1.46414 +/- 0.01391\n",
      "       28/1    1.39795    1.46046 +/- 0.01362\n",
      "       29/1    1.38172    1.45632 +/- 0.01353\n",
      "       30/1    1.49705    1.45835 +/- 0.01300\n",
      "       31/1    1.42760    1.45689 +/- 0.01245\n",
      "       32/1    1.51946    1.45973 +/- 0.01221\n",
      "       33/1    1.43375    1.45860 +/- 0.01172\n",
      "       34/1    1.41749    1.45689 +/- 0.01135\n",
      "       35/1    1.50162    1.45868 +/- 0.01103\n",
      "       36/1    1.42764    1.45749 +/- 0.01067\n",
      "       37/1    1.44483    1.45702 +/- 0.01027\n",
      "       38/1    1.57292    1.46116 +/- 0.01073\n",
      "       39/1    1.46150    1.46117 +/- 0.01035\n",
      "       40/1    1.54874    1.46409 +/- 0.01042\n",
      "       41/1    1.41823    1.46261 +/- 0.01019\n",
      "       42/1    1.36083    1.45943 +/- 0.01036\n",
      "       43/1    1.47536    1.45991 +/- 0.01006\n",
      "       44/1    1.48400    1.46062 +/- 0.00978\n",
      "       45/1    1.43449    1.45987 +/- 0.00953\n",
      "       46/1    1.47191    1.46021 +/- 0.00926\n",
      "       47/1    1.43326    1.45948 +/- 0.00904\n",
      "       48/1    1.53823    1.46155 +/- 0.00904\n",
      "       49/1    1.51592    1.46294 +/- 0.00891\n",
      "       50/1    1.44665    1.46254 +/- 0.00870\n",
      " Creating state point statepoint.50.h5...\n",
      "\n",
      " =======================>     TIMING STATISTICS     <=======================\n",
      "\n",
      " Total time for initialization     = 6.8413e-01 seconds\n",
      "   Reading cross sections          = 6.4585e-01 seconds\n",
      " Total time in simulation          = 7.7388e-01 seconds\n",
      "   Time in transport only          = 7.4974e-01 seconds\n",
      "   Time in inactive batches        = 1.3098e-01 seconds\n",
      "   Time in active batches          = 6.4290e-01 seconds\n",
      "   Time synchronizing fission bank = 3.9337e-03 seconds\n",
      "     Sampling source sites         = 3.4922e-03 seconds\n",
      "     SEND/RECV source sites        = 3.8375e-04 seconds\n",
      "   Time accumulating tallies       = 4.6178e-03 seconds\n",
      "   Time writing statepoints        = 3.2031e-03 seconds\n",
      " Total time for finalization       = 9.6594e-05 seconds\n",
      " Total time elapsed                = 1.4785e+00 seconds\n",
      " Calculation Rate (inactive)       = 76347.4 particles/second\n",
      " Calculation Rate (active)         = 62218.1 particles/second\n",
      "\n",
      " ============================>     RESULTS     <============================\n",
      "\n",
      " k-effective (Collision)     = 1.46314 +/- 0.00636\n",
      " k-effective (Track-length)  = 1.46254 +/- 0.00870\n",
      " k-effective (Absorption)    = 1.46104 +/- 0.00528\n",
      " Combined k-effective        = 1.46184 +/- 0.00460\n",
      " Leakage Fraction            = 0.00000 +/- 0.00000\n",
      "\n",
      " Creating state point openmc_simulation_n0.h5...\n",
      "[openmc.deplete] t=2592000.0 s, dt=2592000 s, source=174\n",
      " Maximum neutron transport energy: 20000000 eV for U235\n",
      " Initializing source particles...\n",
      "\n",
      " ====================>     K EIGENVALUE SIMULATION     <====================\n",
      "\n",
      "  Bat./Gen.      k            Average k\n",
      "  =========   ========   ====================\n",
      "        1/1    1.40447\n",
      "        2/1    1.46409\n",
      "        3/1    1.41697\n",
      "        4/1    1.47293\n",
      "        5/1    1.40942\n",
      "        6/1    1.33075\n",
      "        7/1    1.51129\n",
      "        8/1    1.42074\n",
      "        9/1    1.42390\n",
      "       10/1    1.45595\n",
      "       11/1    1.44417\n",
      "       12/1    1.53237    1.48827 +/- 0.04410\n",
      "       13/1    1.50886    1.49513 +/- 0.02637\n",
      "       14/1    1.47570    1.49027 +/- 0.01927\n",
      "       15/1    1.37653    1.46753 +/- 0.02721\n",
      "       16/1    1.32482    1.44374 +/- 0.03255\n",
      "       17/1    1.43044    1.44184 +/- 0.02757\n",
      "       18/1    1.40452    1.43718 +/- 0.02433\n",
      "       19/1    1.57279    1.45224 +/- 0.02622\n",
      "       20/1    1.50655    1.45768 +/- 0.02407\n",
      "       21/1    1.45460    1.45740 +/- 0.02178\n",
      "       22/1    1.44881    1.45668 +/- 0.01989\n",
      "       23/1    1.46728    1.45750 +/- 0.01832\n",
      "       24/1    1.40401    1.45368 +/- 0.01738\n",
      "       25/1    1.47119    1.45484 +/- 0.01622\n",
      "       26/1    1.37773    1.45002 +/- 0.01592\n",
      "       27/1    1.49799    1.45285 +/- 0.01522\n",
      "       28/1    1.39252    1.44949 +/- 0.01474\n",
      "       29/1    1.40978    1.44740 +/- 0.01409\n",
      "       30/1    1.38517    1.44429 +/- 0.01373\n",
      "       31/1    1.42478    1.44336 +/- 0.01309\n",
      "       32/1    1.43802    1.44312 +/- 0.01248\n",
      "       33/1    1.41992    1.44211 +/- 0.01197\n",
      "       34/1    1.50261    1.44463 +/- 0.01174\n",
      "       35/1    1.46153    1.44531 +/- 0.01128\n",
      "       36/1    1.40062    1.44359 +/- 0.01097\n",
      "       37/1    1.45439    1.44399 +/- 0.01056\n",
      "       38/1    1.46819    1.44485 +/- 0.01022\n",
      "       39/1    1.45317    1.44514 +/- 0.00986\n",
      "       40/1    1.52401    1.44777 +/- 0.00988\n",
      "       41/1    1.42428    1.44701 +/- 0.00959\n",
      "       42/1    1.45040    1.44712 +/- 0.00929\n",
      "       43/1    1.47218    1.44788 +/- 0.00903\n",
      "       44/1    1.49330    1.44921 +/- 0.00886\n",
      "       45/1    1.43803    1.44889 +/- 0.00861\n",
      "       46/1    1.44053    1.44866 +/- 0.00837\n",
      "       47/1    1.55714    1.45159 +/- 0.00866\n",
      "       48/1    1.41795    1.45071 +/- 0.00847\n",
      "       49/1    1.41987    1.44992 +/- 0.00829\n",
      "       50/1    1.45097    1.44994 +/- 0.00808\n",
      " Creating state point statepoint.50.h5...\n",
      "\n",
      " =======================>     TIMING STATISTICS     <=======================\n",
      "\n",
      " Total time for initialization     = 0.0000e+00 seconds\n",
      "   Reading cross sections          = 0.0000e+00 seconds\n",
      " Total time in simulation          = 8.4315e-01 seconds\n",
      "   Time in transport only          = 8.1370e-01 seconds\n",
      "   Time in inactive batches        = 1.7096e-01 seconds\n",
      "   Time in active batches          = 6.7219e-01 seconds\n",
      "   Time synchronizing fission bank = 6.2740e-03 seconds\n",
      "     Sampling source sites         = 5.8238e-03 seconds\n",
      "     SEND/RECV source sites        = 3.8689e-04 seconds\n",
      "   Time accumulating tallies       = 5.8067e-03 seconds\n",
      "   Time writing statepoints        = 6.7006e-03 seconds\n",
      " Total time for finalization       = 1.5747e-04 seconds\n",
      " Total time elapsed                = 8.5462e-01 seconds\n",
      " Calculation Rate (inactive)       = 58492.3 particles/second\n",
      " Calculation Rate (active)         = 59506.9 particles/second\n",
      "\n",
      " ============================>     RESULTS     <============================\n",
      "\n",
      " k-effective (Collision)     = 1.44685 +/- 0.00591\n",
      " k-effective (Track-length)  = 1.44994 +/- 0.00808\n",
      " k-effective (Absorption)    = 1.43801 +/- 0.00415\n",
      " Combined k-effective        = 1.43997 +/- 0.00407\n",
      " Leakage Fraction            = 0.00000 +/- 0.00000\n",
      "\n",
      " Creating state point openmc_simulation_n1.h5...\n",
      "[openmc.deplete] t=5184000.0 s, dt=2592000 s, source=174\n",
      " Maximum neutron transport energy: 20000000 eV for U235\n",
      " Initializing source particles...\n",
      "\n",
      " ====================>     K EIGENVALUE SIMULATION     <====================\n",
      "\n",
      "  Bat./Gen.      k            Average k\n",
      "  =========   ========   ====================\n",
      "        1/1    1.49609\n",
      "        2/1    1.47153\n",
      "        3/1    1.41531\n",
      "        4/1    1.42063\n",
      "        5/1    1.46329\n",
      "        6/1    1.44056\n",
      "        7/1    1.38761\n",
      "        8/1    1.45656\n",
      "        9/1    1.45922\n",
      "       10/1    1.40711\n",
      "       11/1    1.46788\n",
      "       12/1    1.45795    1.46292 +/- 0.00497\n",
      "       13/1    1.50546    1.47710 +/- 0.01447\n",
      "       14/1    1.44094    1.46806 +/- 0.01365\n",
      "       15/1    1.36331    1.44711 +/- 0.02347\n",
      "       16/1    1.39131    1.43781 +/- 0.02130\n",
      "       17/1    1.31723    1.42058 +/- 0.02491\n",
      "       18/1    1.39658    1.41758 +/- 0.02178\n",
      "       19/1    1.41203    1.41696 +/- 0.01922\n",
      "       20/1    1.37762    1.41303 +/- 0.01764\n",
      "       21/1    1.48863    1.41990 +/- 0.01737\n",
      "       22/1    1.41002    1.41908 +/- 0.01588\n",
      "       23/1    1.41208    1.41854 +/- 0.01462\n",
      "       24/1    1.41126    1.41802 +/- 0.01354\n",
      "       25/1    1.43126    1.41890 +/- 0.01264\n",
      "       26/1    1.51326    1.42480 +/- 0.01321\n",
      "       27/1    1.46624    1.42724 +/- 0.01265\n",
      "       28/1    1.42494    1.42711 +/- 0.01192\n",
      "       29/1    1.41976    1.42672 +/- 0.01129\n",
      "       30/1    1.40582    1.42568 +/- 0.01076\n",
      "       31/1    1.34030    1.42161 +/- 0.01101\n",
      "       32/1    1.38143    1.41979 +/- 0.01066\n",
      "       33/1    1.47056    1.42199 +/- 0.01042\n",
      "       34/1    1.45693    1.42345 +/- 0.01008\n",
      "       35/1    1.47827    1.42564 +/- 0.00991\n",
      "       36/1    1.34483    1.42253 +/- 0.01002\n",
      "       37/1    1.42930    1.42278 +/- 0.00964\n",
      "       38/1    1.38584    1.42147 +/- 0.00939\n",
      "       39/1    1.43818    1.42204 +/- 0.00908\n",
      "       40/1    1.38034    1.42065 +/- 0.00888\n",
      "       41/1    1.38352    1.41945 +/- 0.00867\n",
      "       42/1    1.44455    1.42024 +/- 0.00843\n",
      "       43/1    1.54961    1.42416 +/- 0.00906\n",
      "       44/1    1.42095    1.42406 +/- 0.00879\n",
      "       45/1    1.39984    1.42337 +/- 0.00857\n",
      "       46/1    1.50165    1.42555 +/- 0.00860\n",
      "       47/1    1.52897    1.42834 +/- 0.00882\n",
      "       48/1    1.41814    1.42807 +/- 0.00859\n",
      "       49/1    1.49425    1.42977 +/- 0.00854\n",
      "       50/1    1.39230    1.42883 +/- 0.00838\n",
      " Creating state point statepoint.50.h5...\n",
      "\n",
      " =======================>     TIMING STATISTICS     <=======================\n",
      "\n",
      " Total time for initialization     = 0.0000e+00 seconds\n",
      "   Reading cross sections          = 0.0000e+00 seconds\n",
      " Total time in simulation          = 9.4775e-01 seconds\n",
      "   Time in transport only          = 8.8629e-01 seconds\n",
      "   Time in inactive batches        = 1.4069e-01 seconds\n",
      "   Time in active batches          = 8.0705e-01 seconds\n",
      "   Time synchronizing fission bank = 4.2895e-03 seconds\n",
      "     Sampling source sites         = 3.7941e-03 seconds\n",
      "     SEND/RECV source sites        = 4.3274e-04 seconds\n",
      "   Time accumulating tallies       = 3.8323e-02 seconds\n",
      "   Time writing statepoints        = 6.4067e-03 seconds\n",
      " Total time for finalization       = 1.3556e-04 seconds\n",
      " Total time elapsed                = 9.6685e-01 seconds\n",
      " Calculation Rate (inactive)       = 71075.8 particles/second\n",
      " Calculation Rate (active)         = 49563.1 particles/second\n",
      "\n",
      " ============================>     RESULTS     <============================\n",
      "\n",
      " k-effective (Collision)     = 1.43006 +/- 0.00591\n",
      " k-effective (Track-length)  = 1.42883 +/- 0.00838\n",
      " k-effective (Absorption)    = 1.42863 +/- 0.00572\n",
      " Combined k-effective        = 1.42936 +/- 0.00514\n",
      " Leakage Fraction            = 0.00000 +/- 0.00000\n",
      "\n",
      " Creating state point openmc_simulation_n2.h5...\n",
      "[openmc.deplete] t=7776000.0 s, dt=2592000 s, source=174\n",
      " Maximum neutron transport energy: 20000000 eV for U235\n",
      " Initializing source particles...\n",
      "\n",
      " ====================>     K EIGENVALUE SIMULATION     <====================\n",
      "\n",
      "  Bat./Gen.      k            Average k\n",
      "  =========   ========   ====================\n",
      "        1/1    1.44525\n",
      "        2/1    1.39725\n",
      "        3/1    1.49818\n",
      "        4/1    1.43473\n",
      "        5/1    1.55325\n",
      "        6/1    1.49043\n",
      "        7/1    1.44001\n",
      "        8/1    1.47096\n",
      "        9/1    1.33569\n",
      "       10/1    1.43309\n",
      "       11/1    1.40207\n",
      "       12/1    1.40982    1.40594 +/- 0.00388\n",
      "       13/1    1.46991    1.42727 +/- 0.02144\n",
      "       14/1    1.27811    1.38998 +/- 0.04025\n",
      "       15/1    1.41299    1.39458 +/- 0.03152\n",
      "       16/1    1.44922    1.40369 +/- 0.02730\n",
      "       17/1    1.40275    1.40355 +/- 0.02307\n",
      "       18/1    1.40665    1.40394 +/- 0.01998\n",
      "       19/1    1.46326    1.41053 +/- 0.01882\n",
      "       20/1    1.40650    1.41013 +/- 0.01684\n",
      "       21/1    1.37708    1.40712 +/- 0.01552\n",
      "       22/1    1.40019    1.40655 +/- 0.01418\n",
      "       23/1    1.42877    1.40826 +/- 0.01316\n",
      "       24/1    1.37671    1.40600 +/- 0.01239\n",
      "       25/1    1.40717    1.40608 +/- 0.01153\n",
      "       26/1    1.46304    1.40964 +/- 0.01136\n",
      "       27/1    1.37648    1.40769 +/- 0.01085\n",
      "       28/1    1.36343    1.40523 +/- 0.01052\n",
      "       29/1    1.52641    1.41161 +/- 0.01182\n",
      "       30/1    1.32142    1.40710 +/- 0.01208\n",
      "       31/1    1.48502    1.41081 +/- 0.01208\n",
      "       32/1    1.40243    1.41043 +/- 0.01152\n",
      "       33/1    1.48399    1.41363 +/- 0.01147\n",
      "       34/1    1.49694    1.41710 +/- 0.01151\n",
      "       35/1    1.46212    1.41890 +/- 0.01119\n",
      "       36/1    1.50103    1.42206 +/- 0.01120\n",
      "       37/1    1.47787    1.42413 +/- 0.01098\n",
      "       38/1    1.40935    1.42360 +/- 0.01059\n",
      "       39/1    1.42517    1.42365 +/- 0.01022\n",
      "       40/1    1.39736    1.42277 +/- 0.00991\n",
      "       41/1    1.41014    1.42237 +/- 0.00960\n",
      "       42/1    1.45449    1.42337 +/- 0.00935\n",
      "       43/1    1.38649    1.42225 +/- 0.00913\n",
      "       44/1    1.40900    1.42186 +/- 0.00886\n",
      "       45/1    1.50622    1.42427 +/- 0.00894\n",
      "       46/1    1.43840    1.42467 +/- 0.00869\n",
      "       47/1    1.41787    1.42448 +/- 0.00846\n",
      "       48/1    1.39728    1.42377 +/- 0.00826\n",
      "       49/1    1.44498    1.42431 +/- 0.00807\n",
      "       50/1    1.43243    1.42451 +/- 0.00787\n",
      " Creating state point statepoint.50.h5...\n",
      "\n",
      " =======================>     TIMING STATISTICS     <=======================\n",
      "\n",
      " Total time for initialization     = 0.0000e+00 seconds\n",
      "   Reading cross sections          = 0.0000e+00 seconds\n",
      " Total time in simulation          = 8.4329e-01 seconds\n",
      "   Time in transport only          = 8.0634e-01 seconds\n",
      "   Time in inactive batches        = 1.2697e-01 seconds\n",
      "   Time in active batches          = 7.1632e-01 seconds\n",
      "   Time synchronizing fission bank = 3.9341e-03 seconds\n",
      "     Sampling source sites         = 3.4748e-03 seconds\n",
      "     SEND/RECV source sites        = 3.9980e-04 seconds\n",
      "   Time accumulating tallies       = 1.0960e-02 seconds\n",
      "   Time writing statepoints        = 1.2779e-02 seconds\n",
      " Total time for finalization       = 1.1184e-04 seconds\n",
      " Total time elapsed                = 8.5180e-01 seconds\n",
      " Calculation Rate (inactive)       = 78758.2 particles/second\n",
      " Calculation Rate (active)         = 55841.1 particles/second\n",
      "\n",
      " ============================>     RESULTS     <============================\n",
      "\n",
      " k-effective (Collision)     = 1.42805 +/- 0.00568\n",
      " k-effective (Track-length)  = 1.42451 +/- 0.00787\n",
      " k-effective (Absorption)    = 1.42588 +/- 0.00400\n",
      " Combined k-effective        = 1.42628 +/- 0.00367\n",
      " Leakage Fraction            = 0.00000 +/- 0.00000\n",
      "\n",
      " Creating state point openmc_simulation_n3.h5...\n",
      "[openmc.deplete] t=10368000.0 s, dt=2592000 s, source=174\n",
      " Maximum neutron transport energy: 20000000 eV for U235\n",
      " Initializing source particles...\n",
      "\n",
      " ====================>     K EIGENVALUE SIMULATION     <====================\n",
      "\n",
      "  Bat./Gen.      k            Average k\n",
      "  =========   ========   ====================\n",
      "        1/1    1.42372\n",
      "        2/1    1.36392\n",
      "        3/1    1.56019\n",
      "        4/1    1.41091\n",
      "        5/1    1.44355\n",
      "        6/1    1.42948\n",
      "        7/1    1.43458\n",
      "        8/1    1.42146\n",
      "        9/1    1.35445\n",
      "       10/1    1.42498\n",
      "       11/1    1.43976\n",
      "       12/1    1.42404    1.43190 +/- 0.00786\n",
      "       13/1    1.38913    1.41764 +/- 0.01496\n",
      "       14/1    1.43466    1.42190 +/- 0.01140\n",
      "       15/1    1.48155    1.43383 +/- 0.01484\n",
      "       16/1    1.37786    1.42450 +/- 0.01529\n",
      "       17/1    1.46886    1.43084 +/- 0.01440\n",
      "       18/1    1.38946    1.42566 +/- 0.01350\n",
      "       19/1    1.41925    1.42495 +/- 0.01193\n",
      "       20/1    1.38620    1.42108 +/- 0.01135\n",
      "       21/1    1.35242    1.41484 +/- 0.01201\n",
      "       22/1    1.48247    1.42047 +/- 0.01233\n",
      "       23/1    1.44192    1.42212 +/- 0.01146\n",
      "       24/1    1.34402    1.41654 +/- 0.01199\n",
      "       25/1    1.44718    1.41859 +/- 0.01135\n",
      "       26/1    1.47729    1.42225 +/- 0.01123\n",
      "       27/1    1.52300    1.42818 +/- 0.01210\n",
      "       28/1    1.41466    1.42743 +/- 0.01143\n",
      "       29/1    1.51501    1.43204 +/- 0.01175\n",
      "       30/1    1.47697    1.43429 +/- 0.01138\n",
      "       31/1    1.45582    1.43531 +/- 0.01087\n",
      "       32/1    1.44561    1.43578 +/- 0.01037\n",
      "       33/1    1.45486    1.43661 +/- 0.00995\n",
      "       34/1    1.40667    1.43536 +/- 0.00960\n",
      "       35/1    1.54290    1.43966 +/- 0.01017\n",
      "       36/1    1.35465    1.43639 +/- 0.01030\n",
      "       37/1    1.43986    1.43652 +/- 0.00991\n",
      "       38/1    1.40741    1.43548 +/- 0.00961\n",
      "       39/1    1.35348    1.43265 +/- 0.00969\n",
      "       40/1    1.34159    1.42962 +/- 0.00984\n",
      "       41/1    1.47708    1.43115 +/- 0.00964\n",
      "       42/1    1.49474    1.43314 +/- 0.00955\n",
      "       43/1    1.40445    1.43227 +/- 0.00929\n",
      "       44/1    1.36593    1.43032 +/- 0.00922\n",
      "       45/1    1.38073    1.42890 +/- 0.00907\n",
      "       46/1    1.42638    1.42883 +/- 0.00881\n",
      "       47/1    1.40671    1.42823 +/- 0.00859\n",
      "       48/1    1.36251    1.42650 +/- 0.00854\n",
      "       49/1    1.43370    1.42669 +/- 0.00832\n",
      "       50/1    1.39115    1.42580 +/- 0.00816\n",
      " Creating state point statepoint.50.h5...\n",
      "\n",
      " =======================>     TIMING STATISTICS     <=======================\n",
      "\n",
      " Total time for initialization     = 0.0000e+00 seconds\n",
      "   Reading cross sections          = 0.0000e+00 seconds\n",
      " Total time in simulation          = 9.1746e-01 seconds\n",
      "   Time in transport only          = 8.8659e-01 seconds\n",
      "   Time in inactive batches        = 1.6769e-01 seconds\n",
      "   Time in active batches          = 7.4977e-01 seconds\n",
      "   Time synchronizing fission bank = 4.1244e-03 seconds\n",
      "     Sampling source sites         = 3.6581e-03 seconds\n",
      "     SEND/RECV source sites        = 4.0416e-04 seconds\n",
      "   Time accumulating tallies       = 8.6799e-03 seconds\n",
      "   Time writing statepoints        = 6.6860e-03 seconds\n",
      " Total time for finalization       = 1.0535e-04 seconds\n",
      " Total time elapsed                = 9.2534e-01 seconds\n",
      " Calculation Rate (inactive)       = 59633.2 particles/second\n",
      " Calculation Rate (active)         = 53349.7 particles/second\n",
      "\n",
      " ============================>     RESULTS     <============================\n",
      "\n",
      " k-effective (Collision)     = 1.41659 +/- 0.00659\n",
      " k-effective (Track-length)  = 1.42580 +/- 0.00816\n",
      " k-effective (Absorption)    = 1.40992 +/- 0.00492\n",
      " Combined k-effective        = 1.41334 +/- 0.00460\n",
      " Leakage Fraction            = 0.00000 +/- 0.00000\n",
      "\n",
      " Creating state point openmc_simulation_n4.h5...\n",
      "[openmc.deplete] t=12960000.0 s, dt=2592000 s, source=174\n",
      " Maximum neutron transport energy: 20000000 eV for U235\n",
      " Initializing source particles...\n",
      "\n",
      " ====================>     K EIGENVALUE SIMULATION     <====================\n",
      "\n",
      "  Bat./Gen.      k            Average k\n",
      "  =========   ========   ====================\n",
      "        1/1    1.50840\n",
      "        2/1    1.37871\n",
      "        3/1    1.44147\n",
      "        4/1    1.37502\n",
      "        5/1    1.51166\n",
      "        6/1    1.36480\n",
      "        7/1    1.37474\n",
      "        8/1    1.50120\n",
      "        9/1    1.48437\n",
      "       10/1    1.43839\n",
      "       11/1    1.42606\n",
      "       12/1    1.36163    1.39384 +/- 0.03222\n",
      "       13/1    1.43083    1.40617 +/- 0.02232\n",
      "       14/1    1.43214    1.41266 +/- 0.01706\n",
      "       15/1    1.39529    1.40919 +/- 0.01367\n",
      "       16/1    1.40656    1.40875 +/- 0.01117\n",
      "       17/1    1.45853    1.41586 +/- 0.01182\n",
      "       18/1    1.38835    1.41242 +/- 0.01080\n",
      "       19/1    1.37392    1.40814 +/- 0.01044\n",
      "       20/1    1.44311    1.41164 +/- 0.00997\n",
      "       21/1    1.37689    1.40848 +/- 0.00955\n",
      "       22/1    1.44170    1.41125 +/- 0.00915\n",
      "       23/1    1.42896    1.41261 +/- 0.00853\n",
      "       24/1    1.40808    1.41229 +/- 0.00790\n",
      "       25/1    1.38138    1.41023 +/- 0.00764\n",
      "       26/1    1.47825    1.41448 +/- 0.00831\n",
      "       27/1    1.50549    1.41983 +/- 0.00947\n",
      "       28/1    1.44024    1.42097 +/- 0.00900\n",
      "       29/1    1.55001    1.42776 +/- 0.01089\n",
      "       30/1    1.45065    1.42890 +/- 0.01039\n",
      "       31/1    1.44314    1.42958 +/- 0.00991\n",
      "       32/1    1.53581    1.43441 +/- 0.01061\n",
      "       33/1    1.34584    1.43056 +/- 0.01085\n",
      "       34/1    1.46262    1.43189 +/- 0.01047\n",
      "       35/1    1.40896    1.43098 +/- 0.01008\n",
      "       36/1    1.43938    1.43130 +/- 0.00969\n",
      "       37/1    1.42939    1.43123 +/- 0.00933\n",
      "       38/1    1.36832    1.42898 +/- 0.00927\n",
      "       39/1    1.41975    1.42866 +/- 0.00895\n",
      "       40/1    1.44832    1.42932 +/- 0.00867\n",
      "       41/1    1.42290    1.42911 +/- 0.00839\n",
      "       42/1    1.39116    1.42793 +/- 0.00821\n",
      "       43/1    1.51719    1.43063 +/- 0.00840\n",
      "       44/1    1.37441    1.42898 +/- 0.00832\n",
      "       45/1    1.40624    1.42833 +/- 0.00810\n",
      "       46/1    1.43779    1.42859 +/- 0.00788\n",
      "       47/1    1.46176    1.42949 +/- 0.00771\n",
      "       48/1    1.35875    1.42763 +/- 0.00773\n",
      "       49/1    1.47829    1.42893 +/- 0.00765\n",
      "       50/1    1.45400    1.42955 +/- 0.00748\n",
      " Creating state point statepoint.50.h5...\n",
      "\n",
      " =======================>     TIMING STATISTICS     <=======================\n",
      "\n",
      " Total time for initialization     = 0.0000e+00 seconds\n",
      "   Reading cross sections          = 0.0000e+00 seconds\n",
      " Total time in simulation          = 8.8960e-01 seconds\n",
      "   Time in transport only          = 8.6067e-01 seconds\n",
      "   Time in inactive batches        = 1.4762e-01 seconds\n",
      "   Time in active batches          = 7.4198e-01 seconds\n",
      "   Time synchronizing fission bank = 4.0769e-03 seconds\n",
      "     Sampling source sites         = 3.5055e-03 seconds\n",
      "     SEND/RECV source sites        = 5.0760e-04 seconds\n",
      "   Time accumulating tallies       = 7.6404e-03 seconds\n",
      "   Time writing statepoints        = 6.8416e-03 seconds\n",
      " Total time for finalization       = 1.4858e-04 seconds\n",
      " Total time elapsed                = 8.9767e-01 seconds\n",
      " Calculation Rate (inactive)       = 67740 particles/second\n",
      " Calculation Rate (active)         = 53909.8 particles/second\n",
      "\n",
      " ============================>     RESULTS     <============================\n",
      "\n",
      " k-effective (Collision)     = 1.42351 +/- 0.00647\n",
      " k-effective (Track-length)  = 1.42955 +/- 0.00748\n",
      " k-effective (Absorption)    = 1.42123 +/- 0.00460\n",
      " Combined k-effective        = 1.42301 +/- 0.00453\n",
      " Leakage Fraction            = 0.00000 +/- 0.00000\n",
      "\n",
      " Creating state point openmc_simulation_n5.h5...\n",
      "[openmc.deplete] t=15552000.0 (final operator evaluation)\n",
      " Maximum neutron transport energy: 20000000 eV for U235\n",
      " Initializing source particles...\n",
      "\n",
      " ====================>     K EIGENVALUE SIMULATION     <====================\n",
      "\n",
      "  Bat./Gen.      k            Average k\n",
      "  =========   ========   ====================\n",
      "        1/1    1.45179\n",
      "        2/1    1.33474\n",
      "        3/1    1.40530\n",
      "        4/1    1.34120\n",
      "        5/1    1.46186\n",
      "        6/1    1.48744\n",
      "        7/1    1.47086\n",
      "        8/1    1.40613\n",
      "        9/1    1.42509\n",
      "       10/1    1.41891\n",
      "       11/1    1.37455\n",
      "       12/1    1.41770    1.39613 +/- 0.02158\n",
      "       13/1    1.43778    1.41001 +/- 0.01865\n",
      "       14/1    1.38670    1.40418 +/- 0.01442\n",
      "       15/1    1.53620    1.43059 +/- 0.02867\n",
      "       16/1    1.34925    1.41703 +/- 0.02705\n",
      "       17/1    1.29340    1.39937 +/- 0.02889\n",
      "       18/1    1.46871    1.40804 +/- 0.02648\n",
      "       19/1    1.43752    1.41131 +/- 0.02358\n",
      "       20/1    1.44796    1.41498 +/- 0.02141\n",
      "       21/1    1.35480    1.40951 +/- 0.02012\n",
      "       22/1    1.41545    1.41000 +/- 0.01837\n",
      "       23/1    1.38735    1.40826 +/- 0.01699\n",
      "       24/1    1.31729    1.40176 +/- 0.01702\n",
      "       25/1    1.35917    1.39892 +/- 0.01610\n",
      "       26/1    1.45585    1.40248 +/- 0.01547\n",
      "       27/1    1.44240    1.40483 +/- 0.01472\n",
      "       28/1    1.37028    1.40291 +/- 0.01401\n",
      "       29/1    1.40159    1.40284 +/- 0.01325\n",
      "       30/1    1.44674    1.40503 +/- 0.01276\n",
      "       31/1    1.40583    1.40507 +/- 0.01214\n",
      "       32/1    1.35239    1.40268 +/- 0.01182\n",
      "       33/1    1.42400    1.40360 +/- 0.01133\n",
      "       34/1    1.47846    1.40672 +/- 0.01129\n",
      "       35/1    1.40109    1.40650 +/- 0.01083\n",
      "       36/1    1.39432    1.40603 +/- 0.01042\n",
      "       37/1    1.29680    1.40198 +/- 0.01081\n",
      "       38/1    1.42088    1.40266 +/- 0.01044\n",
      "       39/1    1.39365    1.40235 +/- 0.01008\n",
      "       40/1    1.44057    1.40362 +/- 0.00982\n",
      "       41/1    1.37402    1.40267 +/- 0.00954\n",
      "       42/1    1.40850    1.40285 +/- 0.00924\n",
      "       43/1    1.49684    1.40570 +/- 0.00940\n",
      "       44/1    1.35129    1.40410 +/- 0.00926\n",
      "       45/1    1.48278    1.40635 +/- 0.00927\n",
      "       46/1    1.43966    1.40727 +/- 0.00905\n",
      "       47/1    1.47286    1.40904 +/- 0.00898\n",
      "       48/1    1.37405    1.40812 +/- 0.00879\n",
      "       49/1    1.40086    1.40794 +/- 0.00856\n",
      "       50/1    1.45317    1.40907 +/- 0.00842\n",
      " Creating state point statepoint.50.h5...\n",
      "\n",
      " =======================>     TIMING STATISTICS     <=======================\n",
      "\n",
      " Total time for initialization     = 0.0000e+00 seconds\n",
      "   Reading cross sections          = 0.0000e+00 seconds\n",
      " Total time in simulation          = 8.7894e-01 seconds\n",
      "   Time in transport only          = 8.5178e-01 seconds\n",
      "   Time in inactive batches        = 1.4944e-01 seconds\n",
      "   Time in active batches          = 7.2950e-01 seconds\n",
      "   Time synchronizing fission bank = 4.0359e-03 seconds\n",
      "     Sampling source sites         = 3.5714e-03 seconds\n",
      "     SEND/RECV source sites        = 4.0141e-04 seconds\n",
      "   Time accumulating tallies       = 7.0349e-03 seconds\n",
      "   Time writing statepoints        = 7.5930e-03 seconds\n",
      " Total time for finalization       = 1.1754e-04 seconds\n",
      " Total time elapsed                = 8.8716e-01 seconds\n",
      " Calculation Rate (inactive)       = 66916.8 particles/second\n",
      " Calculation Rate (active)         = 54832.1 particles/second\n",
      "\n",
      " ============================>     RESULTS     <============================\n",
      "\n",
      " k-effective (Collision)     = 1.41453 +/- 0.00635\n",
      " k-effective (Track-length)  = 1.40907 +/- 0.00842\n",
      " k-effective (Absorption)    = 1.41404 +/- 0.00479\n",
      " Combined k-effective        = 1.41418 +/- 0.00459\n",
      " Leakage Fraction            = 0.00000 +/- 0.00000\n",
      "\n",
      " Creating state point openmc_simulation_n6.h5...\n"
     ]
    }
   ],
   "source": [
    "integrator.integrate()"
   ]
  },
  {
   "cell_type": "markdown",
   "metadata": {},
   "source": [
    "## Processing the outputs\n",
    "\n",
    "The depletion simulation produces a few output files. First, the statepoint files from each individual transport simulation are written to `openmc_simulation_n<N>.h5`, where `<N>` indicates the current depletion step. Any tallies that we defined in `tallies.xml` will be included in these files across our simulations. We have 7 such files, one for each our of 6 depletion steps and the initial state."
   ]
  },
  {
   "cell_type": "code",
   "execution_count": 17,
   "metadata": {},
   "outputs": [
    {
     "name": "stdout",
     "output_type": "stream",
     "text": [
      "c5g7.h5\t\t\t openmc_simulation_n2.h5  openmc_simulation_n6.h5\n",
      "depletion_results.h5\t openmc_simulation_n3.h5  statepoint.50.h5\n",
      "openmc_simulation_n0.h5  openmc_simulation_n4.h5  summary.h5\n",
      "openmc_simulation_n1.h5  openmc_simulation_n5.h5\n"
     ]
    }
   ],
   "source": [
    "!ls *.h5"
   ]
  },
  {
   "cell_type": "markdown",
   "metadata": {},
   "source": [
    "The `depletion_results.h5` file contains information that is aggregated over all time steps through depletion. This includes the multiplication factor, as well as concentrations. We can process this file using the `openmc.deplete.ResultsList` object"
   ]
  },
  {
   "cell_type": "code",
   "execution_count": 18,
   "metadata": {},
   "outputs": [
    {
     "name": "stderr",
     "output_type": "stream",
     "text": [
      "/home/zhangxin/openmc/openmc/deplete/results.py:71: FutureWarning: The ResultsList.from_hdf5(...) method is no longer necessary and will be removed in a future version of OpenMC. Use Results(...) instead.\n",
      "  warn(\n"
     ]
    }
   ],
   "source": [
    "results = openmc.deplete.ResultsList.from_hdf5(\"./depletion_results.h5\")"
   ]
  },
  {
   "cell_type": "code",
   "execution_count": 19,
   "metadata": {},
   "outputs": [
    {
     "name": "stderr",
     "output_type": "stream",
     "text": [
      "/home/zhangxin/openmc/openmc/deplete/results.py:221: FutureWarning: The get_eigenvalue(...) function has been renamed get_keff and will be removed in a future version of OpenMC.\n",
      "  warn(\"The get_eigenvalue(...) function has been renamed get_keff and \"\n"
     ]
    }
   ],
   "source": [
    "time, k = results.get_eigenvalue()"
   ]
  },
  {
   "cell_type": "code",
   "execution_count": 20,
   "metadata": {},
   "outputs": [],
   "source": [
    "time /= (24 * 60 * 60)  # convert back to days from seconds"
   ]
  },
  {
   "cell_type": "code",
   "execution_count": 21,
   "metadata": {},
   "outputs": [
    {
     "data": {
      "text/plain": [
       "array([[1.4618427 , 0.00459795],\n",
       "       [1.43996612, 0.00407154],\n",
       "       [1.4293619 , 0.0051392 ],\n",
       "       [1.4262837 , 0.00367395],\n",
       "       [1.41334423, 0.00460271],\n",
       "       [1.42301155, 0.0045317 ],\n",
       "       [1.41417596, 0.0045945 ]])"
      ]
     },
     "execution_count": 21,
     "metadata": {},
     "output_type": "execute_result"
    }
   ],
   "source": [
    "k"
   ]
  },
  {
   "cell_type": "markdown",
   "metadata": {},
   "source": [
    "The first column of `k` is the value of `k-combined` at each point in our simulation, while the second column contains the associated uncertainty. We can plot this using `matplotlib`"
   ]
  },
  {
   "cell_type": "code",
   "execution_count": 22,
   "metadata": {},
   "outputs": [],
   "source": [
    "from matplotlib import pyplot"
   ]
  },
  {
   "cell_type": "code",
   "execution_count": 23,
   "metadata": {},
   "outputs": [
    {
     "data": {
      "image/png": "[encoded data removed]",
      "text/plain": [
       "<Figure size 432x288 with 1 Axes>"
      ]
     },
     "metadata": {
      "needs_background": "light"
     },
     "output_type": "display_data"
    }
   ],
   "source": [
    "pyplot.errorbar(time, k[:, 0], yerr=k[:, 1])\n",
    "pyplot.xlabel(\"Time [d]\")\n",
    "pyplot.ylabel(\"$k_{eff}\\pm \\sigma$\");"
   ]
  },
  {
   "cell_type": "markdown",
   "metadata": {},
   "source": [
    "Due to the low number of particles selected, the uncertainty on each value is rather high. However, we can still see the decline over time due to fuel consumption."
   ]
  },
  {
   "cell_type": "markdown",
   "metadata": {},
   "source": [
    "We can then examine concentrations of atoms in each of our materials. This requires knowing the material ID, which can be obtained from the `materials.xml` file."
   ]
  },
  {
   "cell_type": "code",
   "execution_count": 24,
   "metadata": {},
   "outputs": [],
   "source": [
    "_, u5 = results.get_atoms(\"1\", \"U235\")\n",
    "_, xe135 = results.get_atoms(\"1\", \"Xe135\")"
   ]
  },
  {
   "cell_type": "code",
   "execution_count": 25,
   "metadata": {},
   "outputs": [
    {
     "data": {
      "image/png": "[encoded data removed]",
      "text/plain": [
       "<Figure size 432x288 with 1 Axes>"
      ]
     },
     "metadata": {
      "needs_background": "light"
     },
     "output_type": "display_data"
    }
   ],
   "source": [
    "pyplot.plot(time, u5, label=\"U235\")\n",
    "pyplot.xlabel(\"Time [d]\")\n",
    "pyplot.ylabel(\"Number of atoms - U235\");"
   ]
  },
  {
   "cell_type": "code",
   "execution_count": 26,
   "metadata": {},
   "outputs": [
    {
     "data": {
      "image/png": "[encoded data removed]",
      "text/plain": [
       "<Figure size 432x288 with 1 Axes>"
      ]
     },
     "metadata": {
      "needs_background": "light"
     },
     "output_type": "display_data"
    }
   ],
   "source": [
    "pyplot.plot(time, xe135, label=\"Xe135\")\n",
    "pyplot.xlabel(\"Time [d]\")\n",
    "pyplot.ylabel(\"Number of atoms - Xe135\");"
   ]
  },
  {
   "cell_type": "markdown",
   "metadata": {},
   "source": [
    "We can also examine reaction rates over time using the `ResultsList`"
   ]
  },
  {
   "cell_type": "code",
   "execution_count": 27,
   "metadata": {},
   "outputs": [],
   "source": [
    "_, u5_fission = results.get_reaction_rate(\"1\", \"U235\", \"fission\")"
   ]
  },
  {
   "cell_type": "code",
   "execution_count": 28,
   "metadata": {},
   "outputs": [
    {
     "data": {
      "image/png": "[encoded data removed]",
      "text/plain": [
       "<Figure size 432x288 with 1 Axes>"
      ]
     },
     "metadata": {
      "needs_background": "light"
     },
     "output_type": "display_data"
    }
   ],
   "source": [
    "pyplot.plot(time, u5_fission)\n",
    "pyplot.xlabel(\"Time [d]\")\n",
    "pyplot.ylabel(\"Fission reactions / s\");"
   ]
  },
  {
   "cell_type": "markdown",
   "metadata": {},
   "source": [
    "## Helpful tips\n",
    "\n",
    "Depletion is a tricky task to get correct. Use too short of time steps and you may never get your results due to running many transport simulations. Use long of time steps and you may get incorrect answers. Consider the xenon plot from above. Xenon-135 is a fission product with a thermal absorption cross section on the order of millions of barns, but has a half life of ~9 hours. Taking smaller time steps at the beginning of your simulation to build up some equilibrium in your fission products is highly recommended.\n",
    "\n",
    "When possible, differentiate materials that reappear in multiple places. If we had built an entire core with the single `fuel` material, every pin would be depleted using the same averaged spectrum and reaction rates which is incorrect. The `Operator` can differentiate these materials using the `diff_burnable_mats` argument, but note that the volumes will be copied from the original material.\n",
    "\n",
    "Using higher-order integrators, like the `CECMIntegrator`, `EPCRK4Integrator` with a fourth order Runge-Kutta, or the `LEQIIntegrator`, can improve the accuracy of a simulation, or at least allow you to take longer depletion steps between transport simulations with similar accuracy.\n",
    "\n",
    "Fuel pins with integrated burnable absorbers, like gadolinia, experience strong flux gradients until the absorbers are mostly burned away. This means that the spectrum and magnitude of the flux at the edge of the fuel pin can be vastly different than that in the interior. The helper `pin` function can be used to subdivide regions into equal volume segments, as follows."
   ]
  },
  {
   "cell_type": "code",
   "execution_count": 29,
   "metadata": {},
   "outputs": [],
   "source": [
    "div_surfs_1 = [openmc.ZCylinder(r=1)]\n",
    "div_1 = openmc.model.pin(div_surfs_1, [fuel, water], subdivisions={0: 10})"
   ]
  },
  {
   "cell_type": "code",
   "execution_count": 30,
   "metadata": {},
   "outputs": [
    {
     "data": {
      "text/plain": [
       "<matplotlib.image.AxesImage at 0x7f53f8f45f70>"
      ]
     },
     "execution_count": 30,
     "metadata": {},
     "output_type": "execute_result"
    },
    {
     "data": {
      "image/png": "[encoded data removed]",
      "text/plain": [
       "<Figure size 258.065x264.901 with 1 Axes>"
      ]
     },
     "metadata": {
      "needs_background": "light"
     },
     "output_type": "display_data"
    }
   ],
   "source": [
    "div_1.plot(width=(2.0, 2.0))"
   ]
  },
  {
   "cell_type": "markdown",
   "metadata": {},
   "source": [
    "The innermost region has been divided into 10 equal volume regions. We can pass additional arguments to divide multiple regions, except for the region outside the last cylinder."
   ]
  },
  {
   "cell_type": "markdown",
   "metadata": {},
   "source": [
    "## Register depletion chain\n",
    "\n",
    "The depletion chain we created can be registered into the OpenMC `cross_sections.xml` file, so we don't have to always pass the `chain_file` argument to the `Operator`. To do this, we create a `DataLibrary` using `openmc.data`. Without any arguments, the `from_xml` method will look for the file located at `OPENMC_CROSS_SECTIONS`. For this example, we will just create a bare library."
   ]
  },
  {
   "cell_type": "code",
   "execution_count": 31,
   "metadata": {},
   "outputs": [],
   "source": [
    "data_lib = openmc.data.DataLibrary()"
   ]
  },
  {
   "cell_type": "code",
   "execution_count": 32,
   "metadata": {},
   "outputs": [],
   "source": [
    "data_lib.register_file(\"./chain_simple.xml\")"
   ]
  },
  {
   "cell_type": "code",
   "execution_count": 33,
   "metadata": {},
   "outputs": [],
   "source": [
    "data_lib.export_to_xml()"
   ]
  },
  {
   "cell_type": "code",
   "execution_count": 34,
   "metadata": {},
   "outputs": [
    {
     "name": "stdout",
     "output_type": "stream",
     "text": [
      "<?xml version='1.0' encoding='utf-8'?>\n",
      "<cross_sections>\n",
      "  <depletion_chain path=\"chain_simple.xml\" type=\"depletion_chain\" />\n",
      "</cross_sections>\n"
     ]
    }
   ],
   "source": [
    "!cat cross_sections.xml"
   ]
  },
  {
   "cell_type": "markdown",
   "metadata": {},
   "source": [
    "This allows us to make an `Operator` simply with the geometry and settings arguments, provided we exported our library to `OPENMC_CROSS_SECTIONS`. For a problem where we built and registered a `Chain` using all the available nuclear data, we might see something like the following."
   ]
  },
  {
   "cell_type": "code",
   "execution_count": 35,
   "metadata": {},
   "outputs": [],
   "source": [
    "new_op_model=openmc.Model(geometry=geometry,settings=settings)"
   ]
  },
  {
   "cell_type": "code",
   "execution_count": 36,
   "metadata": {},
   "outputs": [],
   "source": [
    "new_op = openmc.deplete.Operator(new_op_model,\"./chain_simple.xml\")"
   ]
  },
  {
   "cell_type": "code",
   "execution_count": 37,
   "metadata": {},
   "outputs": [
    {
     "data": {
      "text/plain": [
       "9"
      ]
     },
     "execution_count": 37,
     "metadata": {},
     "output_type": "execute_result"
    }
   ],
   "source": [
    "len(new_op.chain.nuclide_dict)"
   ]
  },
  {
   "cell_type": "code",
   "execution_count": 38,
   "metadata": {},
   "outputs": [
    {
     "data": {
      "text/plain": [
       "['I135', 'Xe135', 'Xe136', 'Cs135', 'Gd157', 'Gd156', 'U234', 'U235', 'U238']"
      ]
     },
     "execution_count": 38,
     "metadata": {},
     "output_type": "execute_result"
    }
   ],
   "source": [
    "[nuc.name for nuc in new_op.chain.nuclides[:10]]"
   ]
  },
  {
   "cell_type": "code",
   "execution_count": 39,
   "metadata": {},
   "outputs": [
    {
     "data": {
      "text/plain": [
       "['I135', 'Xe135', 'Xe136', 'Cs135', 'Gd157', 'Gd156', 'U234', 'U235', 'U238']"
      ]
     },
     "execution_count": 39,
     "metadata": {},
     "output_type": "execute_result"
    }
   ],
   "source": [
    "[nuc.name for nuc in new_op.chain.nuclides[-10:]]"
   ]
  },
  {
   "cell_type": "markdown",
   "metadata": {},
   "source": [
    "## Choice of depletion step size\n",
    "\n",
    "A general rule of thumb is to use depletion step sizes around 2 MWd/kgHM, where kgHM is really the initial heavy metal mass in kg. If your problem includes integral burnable absorbers, these typically require shorter time steps at or below 1 MWd/kgHM. These are typically valid for the predictor scheme, as the point of recent schemes is to extend this step size. A good convergence study, where the step size is decreased until some convergence metric is satisfied, is a beneficial exercise.\n",
    "\n",
    "We can use the `Operator` to determine our maximum step size using this recommendation. The `heavy_metal` attribute returns the mass of initial heavy metal in g, which, using our power, can be used to compute this step size. $$\\frac{2\\,MWd}{kgHM} = \\frac{P\\times\\Delta}{hm_{op}}$$"
   ]
  },
  {
   "cell_type": "code",
   "execution_count": 40,
   "metadata": {},
   "outputs": [
    {
     "data": {
      "text/plain": [
       "5.080339195584719"
      ]
     },
     "execution_count": 40,
     "metadata": {},
     "output_type": "execute_result"
    }
   ],
   "source": [
    "operator.heavy_metal"
   ]
  },
  {
   "cell_type": "code",
   "execution_count": 41,
   "metadata": {},
   "outputs": [],
   "source": [
    "max_step = 2 * operator.heavy_metal / power * 1E3"
   ]
  },
  {
   "cell_type": "code",
   "execution_count": 42,
   "metadata": {},
   "outputs": [
    {
     "name": "stdout",
     "output_type": "stream",
     "text": [
      "\"Maximum\" depletion step:  58.4 [d]\n"
     ]
    }
   ],
   "source": [
    "print(\"\\\"Maximum\\\" depletion step: {:5.3} [d]\".format(max_step))"
   ]
  },
  {
   "cell_type": "markdown",
   "metadata": {},
   "source": [
    "Alternatively, if we were provided the power density of our problem, we can provide this directly with `openmc.deplete.PredictorIntegrator(operator, time_steps, power_density=pdens)`. The values of `power` and `power_density` do not have to be scalars. For problems with variable power, we can provide an iterable with the same number of elements as `time_steps`."
   ]
  }
 ],
 "metadata": {
  "kernelspec": {
   "display_name": "Python 3 (ipykernel)",
   "language": "python",
   "name": "python3"
  },
  "language_info": {
   "codemirror_mode": {
    "name": "ipython",
    "version": 3
   },
   "file_extension": ".py",
   "mimetype": "text/x-python",
   "name": "python",
   "nbconvert_exporter": "python",
   "pygments_lexer": "ipython3",
   "version": "3.9.13"
  }
 },
 "nbformat": 4,
 "nbformat_minor": 4
}
