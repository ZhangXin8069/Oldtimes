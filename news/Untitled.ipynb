{
 "cells": [
  {
   "cell_type": "code",
   "execution_count": null,
   "id": "9a5ad49b-f52a-4d59-b6da-1823f806c09d",
   "metadata": {},
   "outputs": [
    {
     "name": "stdout",
     "output_type": "stream",
     "text": [
      "国际新闻\n",
      "(1)央视新闻客户端于2022-04-17报道：台风“鲇鱼”已造成菲律宾172人死亡\n",
      "(2)凤凰网于2022-04-17报道：俄宣布俄军又一名将军阵亡 生前为第八军副指挥官\n",
      "(3)参考消息于2022-04-17报道：英媒评估：俄军在乌南部攻势或受影响\n",
      "(4)观察者网于2022-04-17报道：乌克兰称已“击毙”2万俄军 摧毁俄756辆坦克\n",
      "(5)央视新闻于2022-04-17报道：金正恩参观朝鲜新型战术制导武器试射\n",
      "(6)央视新闻客户端于2022-04-17报道：俄国防部：俄军已完全剿灭马里乌波尔市内乌军\n",
      "(7)央视新闻客户端于2022-04-17报道：俄海军总司令、黑海舰队司令部会见&quot;莫斯科&quot;号船员\n",
      "(8)央视网于2022-04-17报道：俄国防部：俄军击落载有西方武器的乌运输机\n",
      "(9)央视网于2022-04-17报道：英国首相约翰逊将于21日访问印度\n",
      "(10)央视网于2022-04-17报道：朝鲜宣布试射新型战术制导武器\n",
      "(11)央视网于2022-04-17报道：美国国家动物园举行大熊猫抵美50周年庆祝活动\n",
      "(12)视觉中国于2022-04-17报道：福奇称群体免疫可能不适用新冠病毒\n",
      "(13)央视网于2022-04-17报道：俄海军总司令和黑海舰队司令部会见&quot;莫斯科&quot;号船员\n",
      "(14)央视网于2022-04-17报道：黎巴嫩军方破获一起偷渡案 拦截20名叙利亚公民\n",
      "(15)央视网于2022-04-17报道：泽连斯基：乌克兰从其他国家获得的武器仍然很少\n",
      "(16)央视网于2022-04-17报道：向北约看齐 日本自民党考虑提高军费占比\n",
      "(17)视觉中国于2022-04-16报道：巴以冲突造成逾160人受伤\n",
      "(18)视觉中国于2022-04-16报道：乌克兰基辅市长：基辅郊区发生爆炸\n",
      "(19)观察者网于2022-04-16报道：俄乌冲突第52天：乌克兰宣称击毙2万俄军\n",
      "(20)观察者网于2022-04-16报道：普京签署俄公司从外国股市退市法令\n",
      "兰大新闻\n",
      "(1)新学期新起航 早谋划开新局――教务处党支部组织主题党日暨“每周......http://jwc.lzu.edu.cn/lzupage/2022/03/02/N20220302111611.html\n",
      "(2)关于2021年12月JLPT成绩单的领取说明...http://jwc.lzu.edu.cn/lzupage/2022/04/15/N20220415144431.html\n",
      "(3)关于做好2022年度本科生转专业工作的通知...http://jwc.lzu.edu.cn/lzupage/2022/04/14/N20220414144616.html\n",
      "(4)关于举行2021年度“隆基教育教学奖”答辩评审的通知...http://jwc.lzu.edu.cn/lzupage/2022/04/12/N20220412162253.html\n",
      "(5)部分本科生课程第8周线上授课安排（持续更新中…）...http://jwc.lzu.edu.cn/lzupage/2022/04/10/N20220410161213.html\n",
      "(6)2022年春季学期第8周教学检查安排...http://jwc.lzu.edu.cn/lzupage/2022/04/10/N20220410130320.html\n",
      "(7)关于确保我校闭环管理期间线下教学平稳有序开展的通知...http://jwc.lzu.edu.cn/lzupage/2022/04/09/N20220409234915.html\n",
      "(8)关于闭环管理阶段线下教学活动安排的通知...http://jwc.lzu.edu.cn/lzupage/2022/04/08/N20220408224816.html\n",
      "(9)【云上会客厅】 ...http://jwc.lzu.edu.cn/lzupage/B20220329120220.html\n",
      "(10)关于开展2022届本科毕业生信息核对及毕业生相关工作时间安排的通......http://jwc.lzu.edu.cn/lzupage/2022/04/08/N20220408104103.html\n"
     ]
    }
   ],
   "source": [
    "def news():\n",
    "    import requests\n",
    "    import re\n",
    "    print('国际新闻')\n",
    "    url = 'https://news.china.com/international/'\n",
    "    r = requests.get(url)\n",
    "    r.encoding = 'utf-8'\n",
    "    html = r.text\n",
    "    alist = re.findall(\n",
    "        r'.html\" target=\"_blank\">.+</a></h3><span class=\"item_info\">',\n",
    "        html)\n",
    "    blist = re.findall(r'<em class=\"item_source\">.+</em>', html)\n",
    "    for i in range(20):\n",
    "        print('({})'.format(i + 1), end='')\n",
    "        print(blist[i][24:-42], end='于')\n",
    "        print(blist[i][-15:-5], end='报道：')\n",
    "        print(alist[i][23:-33])\n",
    "    print('兰大新闻')\n",
    "    url = 'http://jwc.lzu.edu.cn/'\n",
    "    r = requests.get(url)\n",
    "    r.encoding = 'GB2312'\n",
    "    html = r.text\n",
    "    li = re.findall(\n",
    "        r'<li><a title=\\'(.+?)\\'  href=\\\".*?/lzupage(.+?)\\\"',\n",
    "        html)\n",
    "    for i in range(-10, 0):\n",
    "        print('({})'.format(i + 11), end='')\n",
    "        print(li[i][0]+'...http://jwc.lzu.edu.cn/lzupage'+li[i][1])\n",
    "    input('input for leave')\n",
    "news()\n",
    "\n",
    "\n",
    "\n",
    "\n",
    "\n",
    "\n",
    "\n",
    "\n",
    "\n"
   ]
  },
  {
   "cell_type": "code",
   "execution_count": null,
   "id": "a510acc6-a9b8-47c7-a1b5-513c17bfe28f",
   "metadata": {},
   "outputs": [],
   "source": []
  }
 ],
 "metadata": {
  "kernelspec": {
   "display_name": "Python 3 (ipykernel)",
   "language": "python",
   "name": "python3"
  },
  "language_info": {
   "codemirror_mode": {
    "name": "ipython",
    "version": 3
   },
   "file_extension": ".py",
   "mimetype": "text/x-python",
   "name": "python",
   "nbconvert_exporter": "python",
   "pygments_lexer": "ipython3",
   "version": "3.10.0"
  },
  "widgets": {
   "application/vnd.jupyter.widget-state+json": {
    "state": {},
    "version_major": 2,
    "version_minor": 0
   }
  }
 },
 "nbformat": 4,
 "nbformat_minor": 5
}
